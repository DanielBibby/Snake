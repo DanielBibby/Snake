{
 "cells": [
  {
   "cell_type": "code",
   "execution_count": 1,
   "id": "c521a3f3",
   "metadata": {},
   "outputs": [],
   "source": [
    "from stable_baselines3 import PPO\n",
    "\n",
    "from snake.environment.game_environment import SnakeEnvCoilReset\n",
    "from evaluation.evaluation import get_performance\n",
    "from snake.visualisation.state_visualisation import visualise_game_state"
   ]
  },
  {
   "cell_type": "code",
   "execution_count": 2,
   "id": "6a89c38a",
   "metadata": {},
   "outputs": [],
   "source": [
    "import os\n",
    "\n",
    "pwd = os.getcwd()\n",
    "\n",
    "model = PPO.load(os.path.join(pwd, \"..\", \"ppo_256_128_1m\"))"
   ]
  },
  {
   "cell_type": "code",
   "execution_count": 74,
   "id": "564005d2",
   "metadata": {},
   "outputs": [
    {
     "data": {
      "text/plain": [
       "array([], dtype=float64)"
      ]
     },
     "execution_count": 74,
     "metadata": {},
     "output_type": "execute_result"
    }
   ],
   "source": [
    "np.empty(0)"
   ]
  },
  {
   "cell_type": "code",
   "execution_count": 128,
   "id": "5bc1e84a",
   "metadata": {},
   "outputs": [
    {
     "name": "stdout",
     "output_type": "stream",
     "text": [
      "37.39661121368408\n",
      "39.49356293678284\n",
      "38.875295877456665\n",
      "47.61787390708923\n",
      "38.416388273239136\n",
      "49.8788161277771\n",
      "62.512714862823486\n",
      "45.0205659866333\n",
      "35.509151220321655\n",
      "35.34224009513855\n"
     ]
    }
   ],
   "source": [
    "actions = np.empty((0, 1))\n",
    "observations = np.empty((0, 100))\n",
    "rewards = np.empty((0, 1))\n",
    "dones = np.empty(0, dtype=bool)  # Ensure `dones` is initialized as a boolean array\n",
    "\n",
    "for i in range(10):\n",
    "    start_time = time.time()\n",
    "    \n",
    "    _actions, _observations, _rewards, _dones = get_performance(\n",
    "        deeper_256_128_model, SnakeEnvCoilReset(), num_points=10000\n",
    "    )\n",
    "    \n",
    "\n",
    "    actions = np.vstack((actions, _actions))\n",
    "    observations = np.vstack((observations, _observations))\n",
    "    rewards = np.vstack((rewards, _rewards))\n",
    "    dones = np.append(dones, _dones)\n",
    "\n",
    "    print(time.time() - start_time)\n",
    "    \n",
    "# Store the filtered data in a dictionary\n",
    "data = {\n",
    "    \"actions\": actions,\n",
    "    \"observations\": observations,\n",
    "    \"rewards\": rewards,\n",
    "    \"dones\": dones,\n",
    "}\n"
   ]
  },
  {
   "cell_type": "code",
   "execution_count": 110,
   "id": "ed28ae96",
   "metadata": {},
   "outputs": [
    {
     "name": "stdout",
     "output_type": "stream",
     "text": [
      "43.078953981399536\n",
      "43.69701313972473\n",
      "35.7840838432312\n",
      "47.62220907211304\n",
      "47.3359739780426\n",
      "35.53070282936096\n",
      "35.553277254104614\n",
      "35.813271045684814\n",
      "35.68883013725281\n",
      "35.51115798950195\n"
     ]
    }
   ],
   "source": [
    "actions = np.empty((0, 1))\n",
    "observations = np.empty((0, 100))\n",
    "rewards = np.empty((0, 1))\n",
    "dones = np.empty(0, dtype=bool)  # Ensure `dones` is initialized as a boolean array\n",
    "\n",
    "for i in range(10):\n",
    "    start_time = time.time()\n",
    "    \n",
    "    _actions, _observations, _rewards, _dones = get_performance(\n",
    "        deeper_256_128_model, SnakeEnvCoilReset(), num_points=10000\n",
    "    )\n",
    "    \n",
    "    # Filter for rewards > 0\n",
    "    mask = _rewards.flatten() > 0  # Flatten to ensure 1D mask\n",
    "    filtered_actions = _actions[mask]\n",
    "    filtered_observations = _observations[mask]\n",
    "    filtered_rewards = _rewards[mask]\n",
    "    filtered_dones = _dones[mask]\n",
    "\n",
    "    # Append filtered data from the current iteration\n",
    "    actions = np.vstack((actions, filtered_actions))\n",
    "    observations = np.vstack((observations, filtered_observations))\n",
    "    rewards = np.vstack((rewards, filtered_rewards))\n",
    "    dones = np.append(dones, filtered_dones)\n",
    "\n",
    "    print(time.time() - start_time)\n",
    "    \n",
    "# Store the filtered data in a dictionary\n",
    "data = {\n",
    "    \"actions\": actions,\n",
    "    \"observations\": observations,\n",
    "    \"rewards\": rewards,\n",
    "    \"dones\": dones,\n",
    "}\n"
   ]
  },
  {
   "cell_type": "code",
   "execution_count": 129,
   "id": "9a26d6e7",
   "metadata": {},
   "outputs": [
    {
     "name": "stderr",
     "output_type": "stream",
     "text": [
      "\r",
      "0batch [00:00, ?batch/s]"
     ]
    },
    {
     "name": "stdout",
     "output_type": "stream",
     "text": [
      "--------------------------------\n",
      "| batch_size        | 32       |\n",
      "| bc/               |          |\n",
      "|    batch          | 0        |\n",
      "|    ent_loss       | -0.0011  |\n",
      "|    entropy        | 1.1      |\n",
      "|    epoch          | 0        |\n",
      "|    l2_loss        | 0        |\n",
      "|    l2_norm        | 769      |\n",
      "|    loss           | 1.1      |\n",
      "|    neglogp        | 1.1      |\n",
      "|    prob_true_act  | 0.334    |\n",
      "|    samples_so_far | 32       |\n",
      "--------------------------------\n"
     ]
    },
    {
     "name": "stderr",
     "output_type": "stream",
     "text": [
      "495batch [00:04, 138.46batch/s]"
     ]
    },
    {
     "name": "stdout",
     "output_type": "stream",
     "text": [
      "--------------------------------\n",
      "| batch_size        | 32       |\n",
      "| bc/               |          |\n",
      "|    batch          | 500      |\n",
      "|    ent_loss       | -0.00107 |\n",
      "|    entropy        | 1.07     |\n",
      "|    epoch          | 0        |\n",
      "|    l2_loss        | 0        |\n",
      "|    l2_norm        | 783      |\n",
      "|    loss           | 1.14     |\n",
      "|    neglogp        | 1.14     |\n",
      "|    prob_true_act  | 0.332    |\n",
      "|    samples_so_far | 16032    |\n",
      "--------------------------------\n"
     ]
    },
    {
     "name": "stderr",
     "output_type": "stream",
     "text": [
      "987batch [00:07, 169.07batch/s]"
     ]
    },
    {
     "name": "stdout",
     "output_type": "stream",
     "text": [
      "--------------------------------\n",
      "| batch_size        | 32       |\n",
      "| bc/               |          |\n",
      "|    batch          | 1000     |\n",
      "|    ent_loss       | -0.00108 |\n",
      "|    entropy        | 1.08     |\n",
      "|    epoch          | 0        |\n",
      "|    l2_loss        | 0        |\n",
      "|    l2_norm        | 791      |\n",
      "|    loss           | 1.08     |\n",
      "|    neglogp        | 1.08     |\n",
      "|    prob_true_act  | 0.347    |\n",
      "|    samples_so_far | 32032    |\n",
      "--------------------------------\n"
     ]
    },
    {
     "name": "stderr",
     "output_type": "stream",
     "text": [
      "1490batch [00:10, 154.88batch/s]"
     ]
    },
    {
     "name": "stdout",
     "output_type": "stream",
     "text": [
      "--------------------------------\n",
      "| batch_size        | 32       |\n",
      "| bc/               |          |\n",
      "|    batch          | 1500     |\n",
      "|    ent_loss       | -0.00107 |\n",
      "|    entropy        | 1.07     |\n",
      "|    epoch          | 0        |\n",
      "|    l2_loss        | 0        |\n",
      "|    l2_norm        | 803      |\n",
      "|    loss           | 1.1      |\n",
      "|    neglogp        | 1.1      |\n",
      "|    prob_true_act  | 0.342    |\n",
      "|    samples_so_far | 48032    |\n",
      "--------------------------------\n"
     ]
    },
    {
     "name": "stderr",
     "output_type": "stream",
     "text": [
      "2000batch [00:14, 166.65batch/s]"
     ]
    },
    {
     "name": "stdout",
     "output_type": "stream",
     "text": [
      "--------------------------------\n",
      "| batch_size        | 32       |\n",
      "| bc/               |          |\n",
      "|    batch          | 2000     |\n",
      "|    ent_loss       | -0.00107 |\n",
      "|    entropy        | 1.07     |\n",
      "|    epoch          | 0        |\n",
      "|    l2_loss        | 0        |\n",
      "|    l2_norm        | 812      |\n",
      "|    loss           | 1.02     |\n",
      "|    neglogp        | 1.03     |\n",
      "|    prob_true_act  | 0.364    |\n",
      "|    samples_so_far | 64032    |\n",
      "--------------------------------\n"
     ]
    },
    {
     "name": "stderr",
     "output_type": "stream",
     "text": [
      "2485batch [00:17, 159.50batch/s]"
     ]
    },
    {
     "name": "stdout",
     "output_type": "stream",
     "text": [
      "--------------------------------\n",
      "| batch_size        | 32       |\n",
      "| bc/               |          |\n",
      "|    batch          | 2500     |\n",
      "|    ent_loss       | -0.00105 |\n",
      "|    entropy        | 1.05     |\n",
      "|    epoch          | 0        |\n",
      "|    l2_loss        | 0        |\n",
      "|    l2_norm        | 822      |\n",
      "|    loss           | 1.12     |\n",
      "|    neglogp        | 1.12     |\n",
      "|    prob_true_act  | 0.342    |\n",
      "|    samples_so_far | 80032    |\n",
      "--------------------------------\n"
     ]
    },
    {
     "name": "stderr",
     "output_type": "stream",
     "text": [
      "2988batch [00:21, 96.14batch/s] "
     ]
    },
    {
     "name": "stdout",
     "output_type": "stream",
     "text": [
      "--------------------------------\n",
      "| batch_size        | 32       |\n",
      "| bc/               |          |\n",
      "|    batch          | 3000     |\n",
      "|    ent_loss       | -0.00108 |\n",
      "|    entropy        | 1.08     |\n",
      "|    epoch          | 0        |\n",
      "|    l2_loss        | 0        |\n",
      "|    l2_norm        | 829      |\n",
      "|    loss           | 1.08     |\n",
      "|    neglogp        | 1.08     |\n",
      "|    prob_true_act  | 0.345    |\n",
      "|    samples_so_far | 96032    |\n",
      "--------------------------------\n"
     ]
    },
    {
     "name": "stderr",
     "output_type": "stream",
     "text": [
      "3113batch [00:22, 118.95batch/s]\n",
      "3497batch [00:25, 151.07batch/s]\u001b[A"
     ]
    },
    {
     "name": "stdout",
     "output_type": "stream",
     "text": [
      "--------------------------------\n",
      "| batch_size        | 32       |\n",
      "| bc/               |          |\n",
      "|    batch          | 3500     |\n",
      "|    ent_loss       | -0.00106 |\n",
      "|    entropy        | 1.06     |\n",
      "|    epoch          | 1        |\n",
      "|    l2_loss        | 0        |\n",
      "|    l2_norm        | 840      |\n",
      "|    loss           | 1.13     |\n",
      "|    neglogp        | 1.13     |\n",
      "|    prob_true_act  | 0.338    |\n",
      "|    samples_so_far | 112032   |\n",
      "--------------------------------\n"
     ]
    },
    {
     "name": "stderr",
     "output_type": "stream",
     "text": [
      "3994batch [00:28, 159.35batch/s]"
     ]
    },
    {
     "name": "stdout",
     "output_type": "stream",
     "text": [
      "--------------------------------\n",
      "| batch_size        | 32       |\n",
      "| bc/               |          |\n",
      "|    batch          | 4000     |\n",
      "|    ent_loss       | -0.00107 |\n",
      "|    entropy        | 1.07     |\n",
      "|    epoch          | 1        |\n",
      "|    l2_loss        | 0        |\n",
      "|    l2_norm        | 849      |\n",
      "|    loss           | 1.09     |\n",
      "|    neglogp        | 1.09     |\n",
      "|    prob_true_act  | 0.348    |\n",
      "|    samples_so_far | 128032   |\n",
      "--------------------------------\n"
     ]
    },
    {
     "name": "stderr",
     "output_type": "stream",
     "text": [
      "4489batch [00:31, 160.10batch/s]"
     ]
    },
    {
     "name": "stdout",
     "output_type": "stream",
     "text": [
      "--------------------------------\n",
      "| batch_size        | 32       |\n",
      "| bc/               |          |\n",
      "|    batch          | 4500     |\n",
      "|    ent_loss       | -0.00107 |\n",
      "|    entropy        | 1.07     |\n",
      "|    epoch          | 1        |\n",
      "|    l2_loss        | 0        |\n",
      "|    l2_norm        | 862      |\n",
      "|    loss           | 1.07     |\n",
      "|    neglogp        | 1.07     |\n",
      "|    prob_true_act  | 0.352    |\n",
      "|    samples_so_far | 144032   |\n",
      "--------------------------------\n"
     ]
    },
    {
     "name": "stderr",
     "output_type": "stream",
     "text": [
      "4994batch [00:34, 158.08batch/s]"
     ]
    },
    {
     "name": "stdout",
     "output_type": "stream",
     "text": [
      "--------------------------------\n",
      "| batch_size        | 32       |\n",
      "| bc/               |          |\n",
      "|    batch          | 5000     |\n",
      "|    ent_loss       | -0.00107 |\n",
      "|    entropy        | 1.07     |\n",
      "|    epoch          | 1        |\n",
      "|    l2_loss        | 0        |\n",
      "|    l2_norm        | 873      |\n",
      "|    loss           | 1.06     |\n",
      "|    neglogp        | 1.06     |\n",
      "|    prob_true_act  | 0.353    |\n",
      "|    samples_so_far | 160032   |\n",
      "--------------------------------\n"
     ]
    },
    {
     "name": "stderr",
     "output_type": "stream",
     "text": [
      "5495batch [00:38, 145.02batch/s]"
     ]
    },
    {
     "name": "stdout",
     "output_type": "stream",
     "text": [
      "--------------------------------\n",
      "| batch_size        | 32       |\n",
      "| bc/               |          |\n",
      "|    batch          | 5500     |\n",
      "|    ent_loss       | -0.00107 |\n",
      "|    entropy        | 1.07     |\n",
      "|    epoch          | 1        |\n",
      "|    l2_loss        | 0        |\n",
      "|    l2_norm        | 884      |\n",
      "|    loss           | 1.04     |\n",
      "|    neglogp        | 1.04     |\n",
      "|    prob_true_act  | 0.36     |\n",
      "|    samples_so_far | 176032   |\n",
      "--------------------------------\n"
     ]
    },
    {
     "name": "stderr",
     "output_type": "stream",
     "text": [
      "5997batch [00:41, 158.40batch/s]"
     ]
    },
    {
     "name": "stdout",
     "output_type": "stream",
     "text": [
      "--------------------------------\n",
      "| batch_size        | 32       |\n",
      "| bc/               |          |\n",
      "|    batch          | 6000     |\n",
      "|    ent_loss       | -0.00105 |\n",
      "|    entropy        | 1.05     |\n",
      "|    epoch          | 1        |\n",
      "|    l2_loss        | 0        |\n",
      "|    l2_norm        | 894      |\n",
      "|    loss           | 1.14     |\n",
      "|    neglogp        | 1.14     |\n",
      "|    prob_true_act  | 0.337    |\n",
      "|    samples_so_far | 192032   |\n",
      "--------------------------------\n"
     ]
    },
    {
     "name": "stderr",
     "output_type": "stream",
     "text": [
      "6247batch [00:42, 158.64batch/s]\n",
      "6498batch [00:44, 162.18batch/s]\u001b[A"
     ]
    },
    {
     "name": "stdout",
     "output_type": "stream",
     "text": [
      "--------------------------------\n",
      "| batch_size        | 32       |\n",
      "| bc/               |          |\n",
      "|    batch          | 6500     |\n",
      "|    ent_loss       | -0.00106 |\n",
      "|    entropy        | 1.06     |\n",
      "|    epoch          | 2        |\n",
      "|    l2_loss        | 0        |\n",
      "|    l2_norm        | 903      |\n",
      "|    loss           | 1.07     |\n",
      "|    neglogp        | 1.07     |\n",
      "|    prob_true_act  | 0.353    |\n",
      "|    samples_so_far | 208032   |\n",
      "--------------------------------\n"
     ]
    },
    {
     "name": "stderr",
     "output_type": "stream",
     "text": [
      "6988batch [00:47, 162.49batch/s]"
     ]
    },
    {
     "name": "stdout",
     "output_type": "stream",
     "text": [
      "--------------------------------\n",
      "| batch_size        | 32       |\n",
      "| bc/               |          |\n",
      "|    batch          | 7000     |\n",
      "|    ent_loss       | -0.00106 |\n",
      "|    entropy        | 1.06     |\n",
      "|    epoch          | 2        |\n",
      "|    l2_loss        | 0        |\n",
      "|    l2_norm        | 912      |\n",
      "|    loss           | 1.01     |\n",
      "|    neglogp        | 1.01     |\n",
      "|    prob_true_act  | 0.369    |\n",
      "|    samples_so_far | 224032   |\n",
      "--------------------------------\n"
     ]
    },
    {
     "name": "stderr",
     "output_type": "stream",
     "text": [
      "7488batch [00:50, 159.42batch/s]"
     ]
    },
    {
     "name": "stdout",
     "output_type": "stream",
     "text": [
      "--------------------------------\n",
      "| batch_size        | 32       |\n",
      "| bc/               |          |\n",
      "|    batch          | 7500     |\n",
      "|    ent_loss       | -0.00107 |\n",
      "|    entropy        | 1.07     |\n",
      "|    epoch          | 2        |\n",
      "|    l2_loss        | 0        |\n",
      "|    l2_norm        | 924      |\n",
      "|    loss           | 1.09     |\n",
      "|    neglogp        | 1.1      |\n",
      "|    prob_true_act  | 0.344    |\n",
      "|    samples_so_far | 240032   |\n",
      "--------------------------------\n"
     ]
    },
    {
     "name": "stderr",
     "output_type": "stream",
     "text": [
      "7996batch [00:53, 161.56batch/s]"
     ]
    },
    {
     "name": "stdout",
     "output_type": "stream",
     "text": [
      "--------------------------------\n",
      "| batch_size        | 32       |\n",
      "| bc/               |          |\n",
      "|    batch          | 8000     |\n",
      "|    ent_loss       | -0.00108 |\n",
      "|    entropy        | 1.08     |\n",
      "|    epoch          | 2        |\n",
      "|    l2_loss        | 0        |\n",
      "|    l2_norm        | 931      |\n",
      "|    loss           | 1.03     |\n",
      "|    neglogp        | 1.03     |\n",
      "|    prob_true_act  | 0.361    |\n",
      "|    samples_so_far | 256032   |\n",
      "--------------------------------\n"
     ]
    },
    {
     "name": "stderr",
     "output_type": "stream",
     "text": [
      "8498batch [00:56, 160.62batch/s]"
     ]
    },
    {
     "name": "stdout",
     "output_type": "stream",
     "text": [
      "--------------------------------\n",
      "| batch_size        | 32       |\n",
      "| bc/               |          |\n",
      "|    batch          | 8500     |\n",
      "|    ent_loss       | -0.00107 |\n",
      "|    entropy        | 1.07     |\n",
      "|    epoch          | 2        |\n",
      "|    l2_loss        | 0        |\n",
      "|    l2_norm        | 939      |\n",
      "|    loss           | 1.08     |\n",
      "|    neglogp        | 1.08     |\n",
      "|    prob_true_act  | 0.347    |\n",
      "|    samples_so_far | 272032   |\n",
      "--------------------------------\n"
     ]
    },
    {
     "name": "stderr",
     "output_type": "stream",
     "text": [
      "8999batch [01:00, 159.21batch/s]"
     ]
    },
    {
     "name": "stdout",
     "output_type": "stream",
     "text": [
      "--------------------------------\n",
      "| batch_size        | 32       |\n",
      "| bc/               |          |\n",
      "|    batch          | 9000     |\n",
      "|    ent_loss       | -0.00106 |\n",
      "|    entropy        | 1.06     |\n",
      "|    epoch          | 2        |\n",
      "|    l2_loss        | 0        |\n",
      "|    l2_norm        | 947      |\n",
      "|    loss           | 1.06     |\n",
      "|    neglogp        | 1.06     |\n",
      "|    prob_true_act  | 0.355    |\n",
      "|    samples_so_far | 288032   |\n",
      "--------------------------------\n"
     ]
    },
    {
     "name": "stderr",
     "output_type": "stream",
     "text": [
      "9364batch [01:02, 162.29batch/s]\n",
      "9497batch [01:03, 155.00batch/s]\u001b[A"
     ]
    },
    {
     "name": "stdout",
     "output_type": "stream",
     "text": [
      "--------------------------------\n",
      "| batch_size        | 32       |\n",
      "| bc/               |          |\n",
      "|    batch          | 9500     |\n",
      "|    ent_loss       | -0.00106 |\n",
      "|    entropy        | 1.06     |\n",
      "|    epoch          | 3        |\n",
      "|    l2_loss        | 0        |\n",
      "|    l2_norm        | 953      |\n",
      "|    loss           | 1.09     |\n",
      "|    neglogp        | 1.09     |\n",
      "|    prob_true_act  | 0.349    |\n",
      "|    samples_so_far | 304032   |\n",
      "--------------------------------\n"
     ]
    },
    {
     "name": "stderr",
     "output_type": "stream",
     "text": [
      "9997batch [01:06, 163.16batch/s]"
     ]
    },
    {
     "name": "stdout",
     "output_type": "stream",
     "text": [
      "--------------------------------\n",
      "| batch_size        | 32       |\n",
      "| bc/               |          |\n",
      "|    batch          | 10000    |\n",
      "|    ent_loss       | -0.00107 |\n",
      "|    entropy        | 1.07     |\n",
      "|    epoch          | 3        |\n",
      "|    l2_loss        | 0        |\n",
      "|    l2_norm        | 962      |\n",
      "|    loss           | 1.03     |\n",
      "|    neglogp        | 1.03     |\n",
      "|    prob_true_act  | 0.365    |\n",
      "|    samples_so_far | 320032   |\n",
      "--------------------------------\n"
     ]
    },
    {
     "name": "stderr",
     "output_type": "stream",
     "text": [
      "10487batch [01:09, 160.55batch/s]"
     ]
    },
    {
     "name": "stdout",
     "output_type": "stream",
     "text": [
      "--------------------------------\n",
      "| batch_size        | 32       |\n",
      "| bc/               |          |\n",
      "|    batch          | 10500    |\n",
      "|    ent_loss       | -0.00106 |\n",
      "|    entropy        | 1.06     |\n",
      "|    epoch          | 3        |\n",
      "|    l2_loss        | 0        |\n",
      "|    l2_norm        | 970      |\n",
      "|    loss           | 1.01     |\n",
      "|    neglogp        | 1.01     |\n",
      "|    prob_true_act  | 0.373    |\n",
      "|    samples_so_far | 336032   |\n",
      "--------------------------------\n"
     ]
    },
    {
     "name": "stderr",
     "output_type": "stream",
     "text": [
      "10992batch [01:12, 163.45batch/s]"
     ]
    },
    {
     "name": "stdout",
     "output_type": "stream",
     "text": [
      "--------------------------------\n",
      "| batch_size        | 32       |\n",
      "| bc/               |          |\n",
      "|    batch          | 11000    |\n",
      "|    ent_loss       | -0.00108 |\n",
      "|    entropy        | 1.08     |\n",
      "|    epoch          | 3        |\n",
      "|    l2_loss        | 0        |\n",
      "|    l2_norm        | 979      |\n",
      "|    loss           | 1.1      |\n",
      "|    neglogp        | 1.1      |\n",
      "|    prob_true_act  | 0.341    |\n",
      "|    samples_so_far | 352032   |\n",
      "--------------------------------\n"
     ]
    },
    {
     "name": "stderr",
     "output_type": "stream",
     "text": [
      "11496batch [01:15, 163.36batch/s]"
     ]
    },
    {
     "name": "stdout",
     "output_type": "stream",
     "text": [
      "--------------------------------\n",
      "| batch_size        | 32       |\n",
      "| bc/               |          |\n",
      "|    batch          | 11500    |\n",
      "|    ent_loss       | -0.00106 |\n",
      "|    entropy        | 1.06     |\n",
      "|    epoch          | 3        |\n",
      "|    l2_loss        | 0        |\n",
      "|    l2_norm        | 987      |\n",
      "|    loss           | 1.05     |\n",
      "|    neglogp        | 1.05     |\n",
      "|    prob_true_act  | 0.36     |\n",
      "|    samples_so_far | 368032   |\n",
      "--------------------------------\n"
     ]
    },
    {
     "name": "stderr",
     "output_type": "stream",
     "text": [
      "11997batch [01:19, 157.07batch/s]"
     ]
    },
    {
     "name": "stdout",
     "output_type": "stream",
     "text": [
      "--------------------------------\n",
      "| batch_size        | 32       |\n",
      "| bc/               |          |\n",
      "|    batch          | 12000    |\n",
      "|    ent_loss       | -0.00106 |\n",
      "|    entropy        | 1.06     |\n",
      "|    epoch          | 3        |\n",
      "|    l2_loss        | 0        |\n",
      "|    l2_norm        | 996      |\n",
      "|    loss           | 1.09     |\n",
      "|    neglogp        | 1.09     |\n",
      "|    prob_true_act  | 0.348    |\n",
      "|    samples_so_far | 384032   |\n",
      "--------------------------------\n"
     ]
    },
    {
     "name": "stderr",
     "output_type": "stream",
     "text": [
      "12484batch [01:22, 163.58batch/s]\n",
      "Epoch 3 of 20                    \u001b[A"
     ]
    },
    {
     "name": "stdout",
     "output_type": "stream",
     "text": [
      "--------------------------------\n",
      "| batch_size        | 32       |\n",
      "| bc/               |          |\n",
      "|    batch          | 12500    |\n",
      "|    ent_loss       | -0.00107 |\n",
      "|    entropy        | 1.07     |\n",
      "|    epoch          | 4        |\n",
      "|    l2_loss        | 0        |\n",
      "|    l2_norm        | 1e+03    |\n",
      "|    loss           | 1.01     |\n",
      "|    neglogp        | 1.01     |\n",
      "|    prob_true_act  | 0.37     |\n",
      "|    samples_so_far | 400032   |\n",
      "--------------------------------\n"
     ]
    },
    {
     "name": "stderr",
     "output_type": "stream",
     "text": [
      "12991batch [01:25, 163.33batch/s]"
     ]
    },
    {
     "name": "stdout",
     "output_type": "stream",
     "text": [
      "--------------------------------\n",
      "| batch_size        | 32       |\n",
      "| bc/               |          |\n",
      "|    batch          | 13000    |\n",
      "|    ent_loss       | -0.00107 |\n",
      "|    entropy        | 1.07     |\n",
      "|    epoch          | 4        |\n",
      "|    l2_loss        | 0        |\n",
      "|    l2_norm        | 1.01e+03 |\n",
      "|    loss           | 1.12     |\n",
      "|    neglogp        | 1.12     |\n",
      "|    prob_true_act  | 0.337    |\n",
      "|    samples_so_far | 416032   |\n",
      "--------------------------------\n"
     ]
    },
    {
     "name": "stderr",
     "output_type": "stream",
     "text": [
      "13492batch [01:28, 156.25batch/s]"
     ]
    },
    {
     "name": "stdout",
     "output_type": "stream",
     "text": [
      "--------------------------------\n",
      "| batch_size        | 32       |\n",
      "| bc/               |          |\n",
      "|    batch          | 13500    |\n",
      "|    ent_loss       | -0.00107 |\n",
      "|    entropy        | 1.07     |\n",
      "|    epoch          | 4        |\n",
      "|    l2_loss        | 0        |\n",
      "|    l2_norm        | 1.02e+03 |\n",
      "|    loss           | 1.1      |\n",
      "|    neglogp        | 1.1      |\n",
      "|    prob_true_act  | 0.343    |\n",
      "|    samples_so_far | 432032   |\n",
      "--------------------------------\n"
     ]
    },
    {
     "name": "stderr",
     "output_type": "stream",
     "text": [
      "13990batch [01:31, 159.58batch/s]"
     ]
    },
    {
     "name": "stdout",
     "output_type": "stream",
     "text": [
      "--------------------------------\n",
      "| batch_size        | 32       |\n",
      "| bc/               |          |\n",
      "|    batch          | 14000    |\n",
      "|    ent_loss       | -0.00107 |\n",
      "|    entropy        | 1.07     |\n",
      "|    epoch          | 4        |\n",
      "|    l2_loss        | 0        |\n",
      "|    l2_norm        | 1.03e+03 |\n",
      "|    loss           | 1.13     |\n",
      "|    neglogp        | 1.13     |\n",
      "|    prob_true_act  | 0.333    |\n",
      "|    samples_so_far | 448032   |\n",
      "--------------------------------\n"
     ]
    },
    {
     "name": "stderr",
     "output_type": "stream",
     "text": [
      "14492batch [01:34, 160.25batch/s]"
     ]
    },
    {
     "name": "stdout",
     "output_type": "stream",
     "text": [
      "--------------------------------\n",
      "| batch_size        | 32       |\n",
      "| bc/               |          |\n",
      "|    batch          | 14500    |\n",
      "|    ent_loss       | -0.00106 |\n",
      "|    entropy        | 1.06     |\n",
      "|    epoch          | 4        |\n",
      "|    l2_loss        | 0        |\n",
      "|    l2_norm        | 1.04e+03 |\n",
      "|    loss           | 1.09     |\n",
      "|    neglogp        | 1.09     |\n",
      "|    prob_true_act  | 0.348    |\n",
      "|    samples_so_far | 464032   |\n",
      "--------------------------------\n"
     ]
    },
    {
     "name": "stderr",
     "output_type": "stream",
     "text": [
      "14990batch [01:37, 162.93batch/s]"
     ]
    },
    {
     "name": "stdout",
     "output_type": "stream",
     "text": [
      "--------------------------------\n",
      "| batch_size        | 32       |\n",
      "| bc/               |          |\n",
      "|    batch          | 15000    |\n",
      "|    ent_loss       | -0.00107 |\n",
      "|    entropy        | 1.07     |\n",
      "|    epoch          | 4        |\n",
      "|    l2_loss        | 0        |\n",
      "|    l2_norm        | 1.05e+03 |\n",
      "|    loss           | 1        |\n",
      "|    neglogp        | 1        |\n",
      "|    prob_true_act  | 0.372    |\n",
      "|    samples_so_far | 480032   |\n",
      "--------------------------------\n"
     ]
    },
    {
     "name": "stderr",
     "output_type": "stream",
     "text": [
      "15499batch [01:41, 137.69batch/s]"
     ]
    },
    {
     "name": "stdout",
     "output_type": "stream",
     "text": [
      "--------------------------------\n",
      "| batch_size        | 32       |\n",
      "| bc/               |          |\n",
      "|    batch          | 15500    |\n",
      "|    ent_loss       | -0.00107 |\n",
      "|    entropy        | 1.07     |\n",
      "|    epoch          | 4        |\n",
      "|    l2_loss        | 0        |\n",
      "|    l2_norm        | 1.06e+03 |\n",
      "|    loss           | 1.07     |\n",
      "|    neglogp        | 1.07     |\n",
      "|    prob_true_act  | 0.352    |\n",
      "|    samples_so_far | 496032   |\n",
      "--------------------------------\n"
     ]
    },
    {
     "name": "stderr",
     "output_type": "stream",
     "text": [
      "15621batch [01:43, 84.56batch/s] \n",
      "15990batch [01:50, 128.44batch/s][A"
     ]
    },
    {
     "name": "stdout",
     "output_type": "stream",
     "text": [
      "--------------------------------\n",
      "| batch_size        | 32       |\n",
      "| bc/               |          |\n",
      "|    batch          | 16000    |\n",
      "|    ent_loss       | -0.00107 |\n",
      "|    entropy        | 1.07     |\n",
      "|    epoch          | 5        |\n",
      "|    l2_loss        | 0        |\n",
      "|    l2_norm        | 1.06e+03 |\n",
      "|    loss           | 1.03     |\n",
      "|    neglogp        | 1.03     |\n",
      "|    prob_true_act  | 0.361    |\n",
      "|    samples_so_far | 512032   |\n",
      "--------------------------------\n"
     ]
    },
    {
     "name": "stderr",
     "output_type": "stream",
     "text": [
      "16492batch [01:54, 140.25batch/s]"
     ]
    },
    {
     "name": "stdout",
     "output_type": "stream",
     "text": [
      "--------------------------------\n",
      "| batch_size        | 32       |\n",
      "| bc/               |          |\n",
      "|    batch          | 16500    |\n",
      "|    ent_loss       | -0.00106 |\n",
      "|    entropy        | 1.06     |\n",
      "|    epoch          | 5        |\n",
      "|    l2_loss        | 0        |\n",
      "|    l2_norm        | 1.07e+03 |\n",
      "|    loss           | 1.05     |\n",
      "|    neglogp        | 1.05     |\n",
      "|    prob_true_act  | 0.358    |\n",
      "|    samples_so_far | 528032   |\n",
      "--------------------------------\n"
     ]
    },
    {
     "name": "stderr",
     "output_type": "stream",
     "text": [
      "16996batch [01:57, 151.55batch/s]"
     ]
    },
    {
     "name": "stdout",
     "output_type": "stream",
     "text": [
      "--------------------------------\n",
      "| batch_size        | 32       |\n",
      "| bc/               |          |\n",
      "|    batch          | 17000    |\n",
      "|    ent_loss       | -0.00108 |\n",
      "|    entropy        | 1.08     |\n",
      "|    epoch          | 5        |\n",
      "|    l2_loss        | 0        |\n",
      "|    l2_norm        | 1.08e+03 |\n",
      "|    loss           | 1.06     |\n",
      "|    neglogp        | 1.06     |\n",
      "|    prob_true_act  | 0.354    |\n",
      "|    samples_so_far | 544032   |\n",
      "--------------------------------\n"
     ]
    },
    {
     "name": "stderr",
     "output_type": "stream",
     "text": [
      "17500batch [02:01, 121.56batch/s]"
     ]
    },
    {
     "name": "stdout",
     "output_type": "stream",
     "text": [
      "--------------------------------\n",
      "| batch_size        | 32       |\n",
      "| bc/               |          |\n",
      "|    batch          | 17500    |\n",
      "|    ent_loss       | -0.00106 |\n",
      "|    entropy        | 1.06     |\n",
      "|    epoch          | 5        |\n",
      "|    l2_loss        | 0        |\n",
      "|    l2_norm        | 1.09e+03 |\n",
      "|    loss           | 1.12     |\n",
      "|    neglogp        | 1.12     |\n",
      "|    prob_true_act  | 0.337    |\n",
      "|    samples_so_far | 560032   |\n",
      "--------------------------------\n"
     ]
    },
    {
     "name": "stderr",
     "output_type": "stream",
     "text": [
      "17988batch [02:05, 119.11batch/s]"
     ]
    },
    {
     "name": "stdout",
     "output_type": "stream",
     "text": [
      "--------------------------------\n",
      "| batch_size        | 32       |\n",
      "| bc/               |          |\n",
      "|    batch          | 18000    |\n",
      "|    ent_loss       | -0.00107 |\n",
      "|    entropy        | 1.07     |\n",
      "|    epoch          | 5        |\n",
      "|    l2_loss        | 0        |\n",
      "|    l2_norm        | 1.1e+03  |\n",
      "|    loss           | 1.09     |\n",
      "|    neglogp        | 1.09     |\n",
      "|    prob_true_act  | 0.346    |\n",
      "|    samples_so_far | 576032   |\n",
      "--------------------------------\n"
     ]
    },
    {
     "name": "stderr",
     "output_type": "stream",
     "text": [
      "18491batch [02:09, 128.70batch/s]"
     ]
    },
    {
     "name": "stdout",
     "output_type": "stream",
     "text": [
      "--------------------------------\n",
      "| batch_size        | 32       |\n",
      "| bc/               |          |\n",
      "|    batch          | 18500    |\n",
      "|    ent_loss       | -0.00106 |\n",
      "|    entropy        | 1.06     |\n",
      "|    epoch          | 5        |\n",
      "|    l2_loss        | 0        |\n",
      "|    l2_norm        | 1.1e+03  |\n",
      "|    loss           | 1.04     |\n",
      "|    neglogp        | 1.04     |\n",
      "|    prob_true_act  | 0.362    |\n",
      "|    samples_so_far | 592032   |\n",
      "--------------------------------\n"
     ]
    },
    {
     "name": "stderr",
     "output_type": "stream",
     "text": [
      "18738batch [02:11, 128.74batch/s]\n",
      "18991batch [02:13, 150.43batch/s]\u001b[A"
     ]
    },
    {
     "name": "stdout",
     "output_type": "stream",
     "text": [
      "--------------------------------\n",
      "| batch_size        | 32       |\n",
      "| bc/               |          |\n",
      "|    batch          | 19000    |\n",
      "|    ent_loss       | -0.00108 |\n",
      "|    entropy        | 1.08     |\n",
      "|    epoch          | 6        |\n",
      "|    l2_loss        | 0        |\n",
      "|    l2_norm        | 1.11e+03 |\n",
      "|    loss           | 1.11     |\n",
      "|    neglogp        | 1.11     |\n",
      "|    prob_true_act  | 0.336    |\n",
      "|    samples_so_far | 608032   |\n",
      "--------------------------------\n"
     ]
    },
    {
     "name": "stderr",
     "output_type": "stream",
     "text": [
      "19495batch [02:17, 130.43batch/s]"
     ]
    },
    {
     "name": "stdout",
     "output_type": "stream",
     "text": [
      "--------------------------------\n",
      "| batch_size        | 32       |\n",
      "| bc/               |          |\n",
      "|    batch          | 19500    |\n",
      "|    ent_loss       | -0.00107 |\n",
      "|    entropy        | 1.07     |\n",
      "|    epoch          | 6        |\n",
      "|    l2_loss        | 0        |\n",
      "|    l2_norm        | 1.12e+03 |\n",
      "|    loss           | 1.12     |\n",
      "|    neglogp        | 1.12     |\n",
      "|    prob_true_act  | 0.335    |\n",
      "|    samples_so_far | 624032   |\n",
      "--------------------------------\n"
     ]
    },
    {
     "name": "stderr",
     "output_type": "stream",
     "text": [
      "19986batch [02:20, 135.25batch/s]"
     ]
    },
    {
     "name": "stdout",
     "output_type": "stream",
     "text": [
      "--------------------------------\n",
      "| batch_size        | 32       |\n",
      "| bc/               |          |\n",
      "|    batch          | 20000    |\n",
      "|    ent_loss       | -0.00106 |\n",
      "|    entropy        | 1.06     |\n",
      "|    epoch          | 6        |\n",
      "|    l2_loss        | 0        |\n",
      "|    l2_norm        | 1.13e+03 |\n",
      "|    loss           | 1.15     |\n",
      "|    neglogp        | 1.15     |\n",
      "|    prob_true_act  | 0.331    |\n",
      "|    samples_so_far | 640032   |\n",
      "--------------------------------\n"
     ]
    },
    {
     "name": "stderr",
     "output_type": "stream",
     "text": [
      "20497batch [02:24, 121.67batch/s]"
     ]
    },
    {
     "name": "stdout",
     "output_type": "stream",
     "text": [
      "--------------------------------\n",
      "| batch_size        | 32       |\n",
      "| bc/               |          |\n",
      "|    batch          | 20500    |\n",
      "|    ent_loss       | -0.00107 |\n",
      "|    entropy        | 1.07     |\n",
      "|    epoch          | 6        |\n",
      "|    l2_loss        | 0        |\n",
      "|    l2_norm        | 1.14e+03 |\n",
      "|    loss           | 1.03     |\n",
      "|    neglogp        | 1.03     |\n",
      "|    prob_true_act  | 0.363    |\n",
      "|    samples_so_far | 656032   |\n",
      "--------------------------------\n"
     ]
    },
    {
     "name": "stderr",
     "output_type": "stream",
     "text": [
      "20989batch [02:28, 159.57batch/s]"
     ]
    },
    {
     "name": "stdout",
     "output_type": "stream",
     "text": [
      "--------------------------------\n",
      "| batch_size        | 32       |\n",
      "| bc/               |          |\n",
      "|    batch          | 21000    |\n",
      "|    ent_loss       | -0.00107 |\n",
      "|    entropy        | 1.07     |\n",
      "|    epoch          | 6        |\n",
      "|    l2_loss        | 0        |\n",
      "|    l2_norm        | 1.14e+03 |\n",
      "|    loss           | 1.1      |\n",
      "|    neglogp        | 1.1      |\n",
      "|    prob_true_act  | 0.342    |\n",
      "|    samples_so_far | 672032   |\n",
      "--------------------------------\n"
     ]
    },
    {
     "name": "stderr",
     "output_type": "stream",
     "text": [
      "21496batch [02:32, 151.57batch/s]"
     ]
    },
    {
     "name": "stdout",
     "output_type": "stream",
     "text": [
      "--------------------------------\n",
      "| batch_size        | 32       |\n",
      "| bc/               |          |\n",
      "|    batch          | 21500    |\n",
      "|    ent_loss       | -0.00107 |\n",
      "|    entropy        | 1.07     |\n",
      "|    epoch          | 6        |\n",
      "|    l2_loss        | 0        |\n",
      "|    l2_norm        | 1.15e+03 |\n",
      "|    loss           | 1.1      |\n",
      "|    neglogp        | 1.1      |\n",
      "|    prob_true_act  | 0.342    |\n",
      "|    samples_so_far | 688032   |\n",
      "--------------------------------\n"
     ]
    },
    {
     "name": "stderr",
     "output_type": "stream",
     "text": [
      "21859batch [02:34, 161.31batch/s]\n",
      "21992batch [02:35, 159.27batch/s]\u001b[A"
     ]
    },
    {
     "name": "stdout",
     "output_type": "stream",
     "text": [
      "--------------------------------\n",
      "| batch_size        | 32       |\n",
      "| bc/               |          |\n",
      "|    batch          | 22000    |\n",
      "|    ent_loss       | -0.00107 |\n",
      "|    entropy        | 1.07     |\n",
      "|    epoch          | 7        |\n",
      "|    l2_loss        | 0        |\n",
      "|    l2_norm        | 1.16e+03 |\n",
      "|    loss           | 1.1      |\n",
      "|    neglogp        | 1.1      |\n",
      "|    prob_true_act  | 0.342    |\n",
      "|    samples_so_far | 704032   |\n",
      "--------------------------------\n"
     ]
    },
    {
     "name": "stderr",
     "output_type": "stream",
     "text": [
      "22484batch [02:38, 163.59batch/s]"
     ]
    },
    {
     "name": "stdout",
     "output_type": "stream",
     "text": [
      "--------------------------------\n",
      "| batch_size        | 32       |\n",
      "| bc/               |          |\n",
      "|    batch          | 22500    |\n",
      "|    ent_loss       | -0.00107 |\n",
      "|    entropy        | 1.07     |\n",
      "|    epoch          | 7        |\n",
      "|    l2_loss        | 0        |\n",
      "|    l2_norm        | 1.17e+03 |\n",
      "|    loss           | 1.1      |\n",
      "|    neglogp        | 1.1      |\n",
      "|    prob_true_act  | 0.343    |\n",
      "|    samples_so_far | 720032   |\n",
      "--------------------------------\n"
     ]
    },
    {
     "name": "stderr",
     "output_type": "stream",
     "text": [
      "22984batch [02:41, 160.54batch/s]"
     ]
    },
    {
     "name": "stdout",
     "output_type": "stream",
     "text": [
      "--------------------------------\n",
      "| batch_size        | 32       |\n",
      "| bc/               |          |\n",
      "|    batch          | 23000    |\n",
      "|    ent_loss       | -0.00107 |\n",
      "|    entropy        | 1.07     |\n",
      "|    epoch          | 7        |\n",
      "|    l2_loss        | 0        |\n",
      "|    l2_norm        | 1.18e+03 |\n",
      "|    loss           | 1.11     |\n",
      "|    neglogp        | 1.12     |\n",
      "|    prob_true_act  | 0.337    |\n",
      "|    samples_so_far | 736032   |\n",
      "--------------------------------\n"
     ]
    },
    {
     "name": "stderr",
     "output_type": "stream",
     "text": [
      "23492batch [02:44, 159.81batch/s]"
     ]
    },
    {
     "name": "stdout",
     "output_type": "stream",
     "text": [
      "--------------------------------\n",
      "| batch_size        | 32       |\n",
      "| bc/               |          |\n",
      "|    batch          | 23500    |\n",
      "|    ent_loss       | -0.00107 |\n",
      "|    entropy        | 1.07     |\n",
      "|    epoch          | 7        |\n",
      "|    l2_loss        | 0        |\n",
      "|    l2_norm        | 1.19e+03 |\n",
      "|    loss           | 1.1      |\n",
      "|    neglogp        | 1.1      |\n",
      "|    prob_true_act  | 0.342    |\n",
      "|    samples_so_far | 752032   |\n",
      "--------------------------------\n"
     ]
    },
    {
     "name": "stderr",
     "output_type": "stream",
     "text": [
      "23998batch [02:47, 161.86batch/s]"
     ]
    },
    {
     "name": "stdout",
     "output_type": "stream",
     "text": [
      "--------------------------------\n",
      "| batch_size        | 32       |\n",
      "| bc/               |          |\n",
      "|    batch          | 24000    |\n",
      "|    ent_loss       | -0.00107 |\n",
      "|    entropy        | 1.07     |\n",
      "|    epoch          | 7        |\n",
      "|    l2_loss        | 0        |\n",
      "|    l2_norm        | 1.2e+03  |\n",
      "|    loss           | 1.02     |\n",
      "|    neglogp        | 1.02     |\n",
      "|    prob_true_act  | 0.365    |\n",
      "|    samples_so_far | 768032   |\n",
      "--------------------------------\n"
     ]
    },
    {
     "name": "stderr",
     "output_type": "stream",
     "text": [
      "24486batch [02:50, 162.97batch/s]"
     ]
    },
    {
     "name": "stdout",
     "output_type": "stream",
     "text": [
      "--------------------------------\n",
      "| batch_size        | 32       |\n",
      "| bc/               |          |\n",
      "|    batch          | 24500    |\n",
      "|    ent_loss       | -0.00107 |\n",
      "|    entropy        | 1.07     |\n",
      "|    epoch          | 7        |\n",
      "|    l2_loss        | 0        |\n",
      "|    l2_norm        | 1.21e+03 |\n",
      "|    loss           | 1.05     |\n",
      "|    neglogp        | 1.05     |\n",
      "|    prob_true_act  | 0.354    |\n",
      "|    samples_so_far | 784032   |\n",
      "--------------------------------\n"
     ]
    },
    {
     "name": "stderr",
     "output_type": "stream",
     "text": [
      "24986batch [02:54, 163.77batch/s]\n",
      "Epoch 7 of 20                    \u001b[A"
     ]
    },
    {
     "name": "stdout",
     "output_type": "stream",
     "text": [
      "--------------------------------\n",
      "| batch_size        | 32       |\n",
      "| bc/               |          |\n",
      "|    batch          | 25000    |\n",
      "|    ent_loss       | -0.00106 |\n",
      "|    entropy        | 1.06     |\n",
      "|    epoch          | 8        |\n",
      "|    l2_loss        | 0        |\n",
      "|    l2_norm        | 1.21e+03 |\n",
      "|    loss           | 1.02     |\n",
      "|    neglogp        | 1.02     |\n",
      "|    prob_true_act  | 0.369    |\n",
      "|    samples_so_far | 800032   |\n",
      "--------------------------------\n"
     ]
    },
    {
     "name": "stderr",
     "output_type": "stream",
     "text": [
      "25490batch [02:57, 164.13batch/s]"
     ]
    },
    {
     "name": "stdout",
     "output_type": "stream",
     "text": [
      "--------------------------------\n",
      "| batch_size        | 32       |\n",
      "| bc/               |          |\n",
      "|    batch          | 25500    |\n",
      "|    ent_loss       | -0.00107 |\n",
      "|    entropy        | 1.07     |\n",
      "|    epoch          | 8        |\n",
      "|    l2_loss        | 0        |\n",
      "|    l2_norm        | 1.22e+03 |\n",
      "|    loss           | 1.03     |\n",
      "|    neglogp        | 1.03     |\n",
      "|    prob_true_act  | 0.365    |\n",
      "|    samples_so_far | 816032   |\n",
      "--------------------------------\n"
     ]
    },
    {
     "name": "stderr",
     "output_type": "stream",
     "text": [
      "25997batch [03:00, 162.99batch/s]"
     ]
    },
    {
     "name": "stdout",
     "output_type": "stream",
     "text": [
      "--------------------------------\n",
      "| batch_size        | 32       |\n",
      "| bc/               |          |\n",
      "|    batch          | 26000    |\n",
      "|    ent_loss       | -0.00107 |\n",
      "|    entropy        | 1.07     |\n",
      "|    epoch          | 8        |\n",
      "|    l2_loss        | 0        |\n",
      "|    l2_norm        | 1.23e+03 |\n",
      "|    loss           | 1.1      |\n",
      "|    neglogp        | 1.1      |\n",
      "|    prob_true_act  | 0.343    |\n",
      "|    samples_so_far | 832032   |\n",
      "--------------------------------\n"
     ]
    },
    {
     "name": "stderr",
     "output_type": "stream",
     "text": [
      "26497batch [03:03, 157.88batch/s]"
     ]
    },
    {
     "name": "stdout",
     "output_type": "stream",
     "text": [
      "--------------------------------\n",
      "| batch_size        | 32       |\n",
      "| bc/               |          |\n",
      "|    batch          | 26500    |\n",
      "|    ent_loss       | -0.00107 |\n",
      "|    entropy        | 1.07     |\n",
      "|    epoch          | 8        |\n",
      "|    l2_loss        | 0        |\n",
      "|    l2_norm        | 1.24e+03 |\n",
      "|    loss           | 1.07     |\n",
      "|    neglogp        | 1.07     |\n",
      "|    prob_true_act  | 0.353    |\n",
      "|    samples_so_far | 848032   |\n",
      "--------------------------------\n"
     ]
    },
    {
     "name": "stderr",
     "output_type": "stream",
     "text": [
      "26987batch [03:06, 160.31batch/s]"
     ]
    },
    {
     "name": "stdout",
     "output_type": "stream",
     "text": [
      "--------------------------------\n",
      "| batch_size        | 32       |\n",
      "| bc/               |          |\n",
      "|    batch          | 27000    |\n",
      "|    ent_loss       | -0.00107 |\n",
      "|    entropy        | 1.07     |\n",
      "|    epoch          | 8        |\n",
      "|    l2_loss        | 0        |\n",
      "|    l2_norm        | 1.25e+03 |\n",
      "|    loss           | 1.1      |\n",
      "|    neglogp        | 1.1      |\n",
      "|    prob_true_act  | 0.343    |\n",
      "|    samples_so_far | 864032   |\n",
      "--------------------------------\n"
     ]
    },
    {
     "name": "stderr",
     "output_type": "stream",
     "text": [
      "27495batch [03:09, 164.69batch/s]"
     ]
    },
    {
     "name": "stdout",
     "output_type": "stream",
     "text": [
      "--------------------------------\n",
      "| batch_size        | 32       |\n",
      "| bc/               |          |\n",
      "|    batch          | 27500    |\n",
      "|    ent_loss       | -0.00106 |\n",
      "|    entropy        | 1.06     |\n",
      "|    epoch          | 8        |\n",
      "|    l2_loss        | 0        |\n",
      "|    l2_norm        | 1.25e+03 |\n",
      "|    loss           | 1        |\n",
      "|    neglogp        | 1        |\n",
      "|    prob_true_act  | 0.374    |\n",
      "|    samples_so_far | 880032   |\n",
      "--------------------------------\n"
     ]
    },
    {
     "name": "stderr",
     "output_type": "stream",
     "text": [
      "27985batch [03:12, 161.25batch/s]"
     ]
    },
    {
     "name": "stdout",
     "output_type": "stream",
     "text": [
      "--------------------------------\n",
      "| batch_size        | 32       |\n",
      "| bc/               |          |\n",
      "|    batch          | 28000    |\n",
      "|    ent_loss       | -0.00105 |\n",
      "|    entropy        | 1.05     |\n",
      "|    epoch          | 8        |\n",
      "|    l2_loss        | 0        |\n",
      "|    l2_norm        | 1.26e+03 |\n",
      "|    loss           | 1.11     |\n",
      "|    neglogp        | 1.11     |\n",
      "|    prob_true_act  | 0.345    |\n",
      "|    samples_so_far | 896032   |\n",
      "--------------------------------\n"
     ]
    },
    {
     "name": "stderr",
     "output_type": "stream",
     "text": [
      "28118batch [03:13, 162.71batch/s]\n",
      "28500batch [03:16, 160.93batch/s]\u001b[A"
     ]
    },
    {
     "name": "stdout",
     "output_type": "stream",
     "text": [
      "--------------------------------\n",
      "| batch_size        | 32       |\n",
      "| bc/               |          |\n",
      "|    batch          | 28500    |\n",
      "|    ent_loss       | -0.00106 |\n",
      "|    entropy        | 1.06     |\n",
      "|    epoch          | 9        |\n",
      "|    l2_loss        | 0        |\n",
      "|    l2_norm        | 1.26e+03 |\n",
      "|    loss           | 1.01     |\n",
      "|    neglogp        | 1.01     |\n",
      "|    prob_true_act  | 0.371    |\n",
      "|    samples_so_far | 912032   |\n",
      "--------------------------------\n"
     ]
    },
    {
     "name": "stderr",
     "output_type": "stream",
     "text": [
      "28991batch [03:19, 156.71batch/s]"
     ]
    },
    {
     "name": "stdout",
     "output_type": "stream",
     "text": [
      "--------------------------------\n",
      "| batch_size        | 32       |\n",
      "| bc/               |          |\n",
      "|    batch          | 29000    |\n",
      "|    ent_loss       | -0.00106 |\n",
      "|    entropy        | 1.06     |\n",
      "|    epoch          | 9        |\n",
      "|    l2_loss        | 0        |\n",
      "|    l2_norm        | 1.27e+03 |\n",
      "|    loss           | 1.08     |\n",
      "|    neglogp        | 1.08     |\n",
      "|    prob_true_act  | 0.35     |\n",
      "|    samples_so_far | 928032   |\n",
      "--------------------------------\n"
     ]
    },
    {
     "name": "stderr",
     "output_type": "stream",
     "text": [
      "29498batch [03:22, 165.03batch/s]"
     ]
    },
    {
     "name": "stdout",
     "output_type": "stream",
     "text": [
      "--------------------------------\n",
      "| batch_size        | 32       |\n",
      "| bc/               |          |\n",
      "|    batch          | 29500    |\n",
      "|    ent_loss       | -0.00106 |\n",
      "|    entropy        | 1.06     |\n",
      "|    epoch          | 9        |\n",
      "|    l2_loss        | 0        |\n",
      "|    l2_norm        | 1.28e+03 |\n",
      "|    loss           | 1.18     |\n",
      "|    neglogp        | 1.18     |\n",
      "|    prob_true_act  | 0.32     |\n",
      "|    samples_so_far | 944032   |\n",
      "--------------------------------\n"
     ]
    },
    {
     "name": "stderr",
     "output_type": "stream",
     "text": [
      "29988batch [03:25, 160.35batch/s]"
     ]
    },
    {
     "name": "stdout",
     "output_type": "stream",
     "text": [
      "--------------------------------\n",
      "| batch_size        | 32       |\n",
      "| bc/               |          |\n",
      "|    batch          | 30000    |\n",
      "|    ent_loss       | -0.00107 |\n",
      "|    entropy        | 1.07     |\n",
      "|    epoch          | 9        |\n",
      "|    l2_loss        | 0        |\n",
      "|    l2_norm        | 1.29e+03 |\n",
      "|    loss           | 1.05     |\n",
      "|    neglogp        | 1.05     |\n",
      "|    prob_true_act  | 0.358    |\n",
      "|    samples_so_far | 960032   |\n",
      "--------------------------------\n"
     ]
    },
    {
     "name": "stderr",
     "output_type": "stream",
     "text": [
      "30493batch [03:28, 158.70batch/s]"
     ]
    },
    {
     "name": "stdout",
     "output_type": "stream",
     "text": [
      "--------------------------------\n",
      "| batch_size        | 32       |\n",
      "| bc/               |          |\n",
      "|    batch          | 30500    |\n",
      "|    ent_loss       | -0.00107 |\n",
      "|    entropy        | 1.07     |\n",
      "|    epoch          | 9        |\n",
      "|    l2_loss        | 0        |\n",
      "|    l2_norm        | 1.29e+03 |\n",
      "|    loss           | 1.14     |\n",
      "|    neglogp        | 1.14     |\n",
      "|    prob_true_act  | 0.332    |\n",
      "|    samples_so_far | 976032   |\n",
      "--------------------------------\n"
     ]
    },
    {
     "name": "stderr",
     "output_type": "stream",
     "text": [
      "30992batch [03:31, 164.78batch/s]"
     ]
    },
    {
     "name": "stdout",
     "output_type": "stream",
     "text": [
      "--------------------------------\n",
      "| batch_size        | 32       |\n",
      "| bc/               |          |\n",
      "|    batch          | 31000    |\n",
      "|    ent_loss       | -0.00107 |\n",
      "|    entropy        | 1.07     |\n",
      "|    epoch          | 9        |\n",
      "|    l2_loss        | 0        |\n",
      "|    l2_norm        | 1.3e+03  |\n",
      "|    loss           | 1.05     |\n",
      "|    neglogp        | 1.05     |\n",
      "|    prob_true_act  | 0.358    |\n",
      "|    samples_so_far | 992032   |\n",
      "--------------------------------\n"
     ]
    },
    {
     "name": "stderr",
     "output_type": "stream",
     "text": [
      "31242batch [03:33, 158.76batch/s]\n",
      "31495batch [03:34, 160.55batch/s]\u001b[A"
     ]
    },
    {
     "name": "stdout",
     "output_type": "stream",
     "text": [
      "--------------------------------\n",
      "| batch_size        | 32       |\n",
      "| bc/               |          |\n",
      "|    batch          | 31500    |\n",
      "|    ent_loss       | -0.00107 |\n",
      "|    entropy        | 1.07     |\n",
      "|    epoch          | 10       |\n",
      "|    l2_loss        | 0        |\n",
      "|    l2_norm        | 1.31e+03 |\n",
      "|    loss           | 1.06     |\n",
      "|    neglogp        | 1.06     |\n",
      "|    prob_true_act  | 0.355    |\n",
      "|    samples_so_far | 1008032  |\n",
      "--------------------------------\n"
     ]
    },
    {
     "name": "stderr",
     "output_type": "stream",
     "text": [
      "31987batch [03:38, 161.47batch/s]"
     ]
    },
    {
     "name": "stdout",
     "output_type": "stream",
     "text": [
      "--------------------------------\n",
      "| batch_size        | 32       |\n",
      "| bc/               |          |\n",
      "|    batch          | 32000    |\n",
      "|    ent_loss       | -0.00106 |\n",
      "|    entropy        | 1.06     |\n",
      "|    epoch          | 10       |\n",
      "|    l2_loss        | 0        |\n",
      "|    l2_norm        | 1.32e+03 |\n",
      "|    loss           | 1.12     |\n",
      "|    neglogp        | 1.12     |\n",
      "|    prob_true_act  | 0.337    |\n",
      "|    samples_so_far | 1024032  |\n",
      "--------------------------------\n"
     ]
    },
    {
     "name": "stderr",
     "output_type": "stream",
     "text": [
      "32491batch [03:41, 160.76batch/s]"
     ]
    },
    {
     "name": "stdout",
     "output_type": "stream",
     "text": [
      "--------------------------------\n",
      "| batch_size        | 32       |\n",
      "| bc/               |          |\n",
      "|    batch          | 32500    |\n",
      "|    ent_loss       | -0.00108 |\n",
      "|    entropy        | 1.08     |\n",
      "|    epoch          | 10       |\n",
      "|    l2_loss        | 0        |\n",
      "|    l2_norm        | 1.33e+03 |\n",
      "|    loss           | 1.07     |\n",
      "|    neglogp        | 1.07     |\n",
      "|    prob_true_act  | 0.351    |\n",
      "|    samples_so_far | 1040032  |\n",
      "--------------------------------\n"
     ]
    },
    {
     "name": "stderr",
     "output_type": "stream",
     "text": [
      "32996batch [03:44, 159.80batch/s]"
     ]
    },
    {
     "name": "stdout",
     "output_type": "stream",
     "text": [
      "--------------------------------\n",
      "| batch_size        | 32       |\n",
      "| bc/               |          |\n",
      "|    batch          | 33000    |\n",
      "|    ent_loss       | -0.00107 |\n",
      "|    entropy        | 1.07     |\n",
      "|    epoch          | 10       |\n",
      "|    l2_loss        | 0        |\n",
      "|    l2_norm        | 1.33e+03 |\n",
      "|    loss           | 1.06     |\n",
      "|    neglogp        | 1.06     |\n",
      "|    prob_true_act  | 0.353    |\n",
      "|    samples_so_far | 1056032  |\n",
      "--------------------------------\n"
     ]
    },
    {
     "name": "stderr",
     "output_type": "stream",
     "text": [
      "33484batch [03:47, 162.79batch/s]"
     ]
    },
    {
     "name": "stdout",
     "output_type": "stream",
     "text": [
      "--------------------------------\n",
      "| batch_size        | 32       |\n",
      "| bc/               |          |\n",
      "|    batch          | 33500    |\n",
      "|    ent_loss       | -0.00107 |\n",
      "|    entropy        | 1.07     |\n",
      "|    epoch          | 10       |\n",
      "|    l2_loss        | 0        |\n",
      "|    l2_norm        | 1.34e+03 |\n",
      "|    loss           | 1.04     |\n",
      "|    neglogp        | 1.05     |\n",
      "|    prob_true_act  | 0.36     |\n",
      "|    samples_so_far | 1072032  |\n",
      "--------------------------------\n"
     ]
    },
    {
     "name": "stderr",
     "output_type": "stream",
     "text": [
      "33990batch [03:50, 160.07batch/s]"
     ]
    },
    {
     "name": "stdout",
     "output_type": "stream",
     "text": [
      "--------------------------------\n",
      "| batch_size        | 32       |\n",
      "| bc/               |          |\n",
      "|    batch          | 34000    |\n",
      "|    ent_loss       | -0.00107 |\n",
      "|    entropy        | 1.07     |\n",
      "|    epoch          | 10       |\n",
      "|    l2_loss        | 0        |\n",
      "|    l2_norm        | 1.34e+03 |\n",
      "|    loss           | 1.1      |\n",
      "|    neglogp        | 1.1      |\n",
      "|    prob_true_act  | 0.343    |\n",
      "|    samples_so_far | 1088032  |\n",
      "--------------------------------\n"
     ]
    },
    {
     "name": "stderr",
     "output_type": "stream",
     "text": [
      "34361batch [03:52, 161.64batch/s]\n",
      "34496batch [03:53, 158.71batch/s]\u001b[A"
     ]
    },
    {
     "name": "stdout",
     "output_type": "stream",
     "text": [
      "--------------------------------\n",
      "| batch_size        | 32       |\n",
      "| bc/               |          |\n",
      "|    batch          | 34500    |\n",
      "|    ent_loss       | -0.00107 |\n",
      "|    entropy        | 1.07     |\n",
      "|    epoch          | 11       |\n",
      "|    l2_loss        | 0        |\n",
      "|    l2_norm        | 1.36e+03 |\n",
      "|    loss           | 1.12     |\n",
      "|    neglogp        | 1.12     |\n",
      "|    prob_true_act  | 0.337    |\n",
      "|    samples_so_far | 1104032  |\n",
      "--------------------------------\n"
     ]
    },
    {
     "name": "stderr",
     "output_type": "stream",
     "text": [
      "34997batch [03:56, 163.22batch/s]"
     ]
    },
    {
     "name": "stdout",
     "output_type": "stream",
     "text": [
      "--------------------------------\n",
      "| batch_size        | 32       |\n",
      "| bc/               |          |\n",
      "|    batch          | 35000    |\n",
      "|    ent_loss       | -0.00107 |\n",
      "|    entropy        | 1.07     |\n",
      "|    epoch          | 11       |\n",
      "|    l2_loss        | 0        |\n",
      "|    l2_norm        | 1.37e+03 |\n",
      "|    loss           | 1.07     |\n",
      "|    neglogp        | 1.07     |\n",
      "|    prob_true_act  | 0.353    |\n",
      "|    samples_so_far | 1120032  |\n",
      "--------------------------------\n"
     ]
    },
    {
     "name": "stderr",
     "output_type": "stream",
     "text": [
      "35486batch [04:00, 157.46batch/s]"
     ]
    },
    {
     "name": "stdout",
     "output_type": "stream",
     "text": [
      "--------------------------------\n",
      "| batch_size        | 32       |\n",
      "| bc/               |          |\n",
      "|    batch          | 35500    |\n",
      "|    ent_loss       | -0.00108 |\n",
      "|    entropy        | 1.08     |\n",
      "|    epoch          | 11       |\n",
      "|    l2_loss        | 0        |\n",
      "|    l2_norm        | 1.37e+03 |\n",
      "|    loss           | 1.07     |\n",
      "|    neglogp        | 1.07     |\n",
      "|    prob_true_act  | 0.35     |\n",
      "|    samples_so_far | 1136032  |\n",
      "--------------------------------\n"
     ]
    },
    {
     "name": "stderr",
     "output_type": "stream",
     "text": [
      "35999batch [04:03, 159.84batch/s]"
     ]
    },
    {
     "name": "stdout",
     "output_type": "stream",
     "text": [
      "--------------------------------\n",
      "| batch_size        | 32       |\n",
      "| bc/               |          |\n",
      "|    batch          | 36000    |\n",
      "|    ent_loss       | -0.00108 |\n",
      "|    entropy        | 1.08     |\n",
      "|    epoch          | 11       |\n",
      "|    l2_loss        | 0        |\n",
      "|    l2_norm        | 1.38e+03 |\n",
      "|    loss           | 1.11     |\n",
      "|    neglogp        | 1.12     |\n",
      "|    prob_true_act  | 0.334    |\n",
      "|    samples_so_far | 1152032  |\n",
      "--------------------------------\n"
     ]
    },
    {
     "name": "stderr",
     "output_type": "stream",
     "text": [
      "36487batch [04:06, 152.00batch/s]"
     ]
    },
    {
     "name": "stdout",
     "output_type": "stream",
     "text": [
      "--------------------------------\n",
      "| batch_size        | 32       |\n",
      "| bc/               |          |\n",
      "|    batch          | 36500    |\n",
      "|    ent_loss       | -0.00106 |\n",
      "|    entropy        | 1.06     |\n",
      "|    epoch          | 11       |\n",
      "|    l2_loss        | 0        |\n",
      "|    l2_norm        | 1.39e+03 |\n",
      "|    loss           | 1.09     |\n",
      "|    neglogp        | 1.09     |\n",
      "|    prob_true_act  | 0.348    |\n",
      "|    samples_so_far | 1168032  |\n",
      "--------------------------------\n"
     ]
    },
    {
     "name": "stderr",
     "output_type": "stream",
     "text": [
      "36988batch [04:09, 155.94batch/s]"
     ]
    },
    {
     "name": "stdout",
     "output_type": "stream",
     "text": [
      "--------------------------------\n",
      "| batch_size        | 32       |\n",
      "| bc/               |          |\n",
      "|    batch          | 37000    |\n",
      "|    ent_loss       | -0.00107 |\n",
      "|    entropy        | 1.07     |\n",
      "|    epoch          | 11       |\n",
      "|    l2_loss        | 0        |\n",
      "|    l2_norm        | 1.4e+03  |\n",
      "|    loss           | 1.03     |\n",
      "|    neglogp        | 1.03     |\n",
      "|    prob_true_act  | 0.363    |\n",
      "|    samples_so_far | 1184032  |\n",
      "--------------------------------\n"
     ]
    },
    {
     "name": "stderr",
     "output_type": "stream",
     "text": [
      "37492batch [04:12, 162.31batch/s]\n",
      "Epoch 11 of 20                   \u001b[A"
     ]
    },
    {
     "name": "stdout",
     "output_type": "stream",
     "text": [
      "--------------------------------\n",
      "| batch_size        | 32       |\n",
      "| bc/               |          |\n",
      "|    batch          | 37500    |\n",
      "|    ent_loss       | -0.00107 |\n",
      "|    entropy        | 1.07     |\n",
      "|    epoch          | 12       |\n",
      "|    l2_loss        | 0        |\n",
      "|    l2_norm        | 1.41e+03 |\n",
      "|    loss           | 1.04     |\n",
      "|    neglogp        | 1.04     |\n",
      "|    prob_true_act  | 0.361    |\n",
      "|    samples_so_far | 1200032  |\n",
      "--------------------------------\n"
     ]
    },
    {
     "name": "stderr",
     "output_type": "stream",
     "text": [
      "37997batch [04:15, 161.82batch/s]"
     ]
    },
    {
     "name": "stdout",
     "output_type": "stream",
     "text": [
      "--------------------------------\n",
      "| batch_size        | 32       |\n",
      "| bc/               |          |\n",
      "|    batch          | 38000    |\n",
      "|    ent_loss       | -0.00107 |\n",
      "|    entropy        | 1.07     |\n",
      "|    epoch          | 12       |\n",
      "|    l2_loss        | 0        |\n",
      "|    l2_norm        | 1.41e+03 |\n",
      "|    loss           | 1.12     |\n",
      "|    neglogp        | 1.12     |\n",
      "|    prob_true_act  | 0.336    |\n",
      "|    samples_so_far | 1216032  |\n",
      "--------------------------------\n"
     ]
    },
    {
     "name": "stderr",
     "output_type": "stream",
     "text": [
      "38484batch [04:18, 157.99batch/s]"
     ]
    },
    {
     "name": "stdout",
     "output_type": "stream",
     "text": [
      "--------------------------------\n",
      "| batch_size        | 32       |\n",
      "| bc/               |          |\n",
      "|    batch          | 38500    |\n",
      "|    ent_loss       | -0.00106 |\n",
      "|    entropy        | 1.06     |\n",
      "|    epoch          | 12       |\n",
      "|    l2_loss        | 0        |\n",
      "|    l2_norm        | 1.43e+03 |\n",
      "|    loss           | 0.993    |\n",
      "|    neglogp        | 0.994    |\n",
      "|    prob_true_act  | 0.375    |\n",
      "|    samples_so_far | 1232032  |\n",
      "--------------------------------\n"
     ]
    },
    {
     "name": "stderr",
     "output_type": "stream",
     "text": [
      "38990batch [04:22, 162.88batch/s]"
     ]
    },
    {
     "name": "stdout",
     "output_type": "stream",
     "text": [
      "--------------------------------\n",
      "| batch_size        | 32       |\n",
      "| bc/               |          |\n",
      "|    batch          | 39000    |\n",
      "|    ent_loss       | -0.00107 |\n",
      "|    entropy        | 1.07     |\n",
      "|    epoch          | 12       |\n",
      "|    l2_loss        | 0        |\n",
      "|    l2_norm        | 1.43e+03 |\n",
      "|    loss           | 1.05     |\n",
      "|    neglogp        | 1.05     |\n",
      "|    prob_true_act  | 0.358    |\n",
      "|    samples_so_far | 1248032  |\n",
      "--------------------------------\n"
     ]
    },
    {
     "name": "stderr",
     "output_type": "stream",
     "text": [
      "39495batch [04:25, 164.20batch/s]"
     ]
    },
    {
     "name": "stdout",
     "output_type": "stream",
     "text": [
      "--------------------------------\n",
      "| batch_size        | 32       |\n",
      "| bc/               |          |\n",
      "|    batch          | 39500    |\n",
      "|    ent_loss       | -0.00106 |\n",
      "|    entropy        | 1.06     |\n",
      "|    epoch          | 12       |\n",
      "|    l2_loss        | 0        |\n",
      "|    l2_norm        | 1.44e+03 |\n",
      "|    loss           | 1.02     |\n",
      "|    neglogp        | 1.03     |\n",
      "|    prob_true_act  | 0.368    |\n",
      "|    samples_so_far | 1264032  |\n",
      "--------------------------------\n"
     ]
    },
    {
     "name": "stderr",
     "output_type": "stream",
     "text": [
      "39986batch [04:29, 132.77batch/s]"
     ]
    },
    {
     "name": "stdout",
     "output_type": "stream",
     "text": [
      "--------------------------------\n",
      "| batch_size        | 32       |\n",
      "| bc/               |          |\n",
      "|    batch          | 40000    |\n",
      "|    ent_loss       | -0.00107 |\n",
      "|    entropy        | 1.07     |\n",
      "|    epoch          | 12       |\n",
      "|    l2_loss        | 0        |\n",
      "|    l2_norm        | 1.45e+03 |\n",
      "|    loss           | 1.06     |\n",
      "|    neglogp        | 1.06     |\n",
      "|    prob_true_act  | 0.353    |\n",
      "|    samples_so_far | 1280032  |\n",
      "--------------------------------\n"
     ]
    },
    {
     "name": "stderr",
     "output_type": "stream",
     "text": [
      "40494batch [04:33, 142.12batch/s]"
     ]
    },
    {
     "name": "stdout",
     "output_type": "stream",
     "text": [
      "--------------------------------\n",
      "| batch_size        | 32       |\n",
      "| bc/               |          |\n",
      "|    batch          | 40500    |\n",
      "|    ent_loss       | -0.00107 |\n",
      "|    entropy        | 1.07     |\n",
      "|    epoch          | 12       |\n",
      "|    l2_loss        | 0        |\n",
      "|    l2_norm        | 1.46e+03 |\n",
      "|    loss           | 1.05     |\n",
      "|    neglogp        | 1.05     |\n",
      "|    prob_true_act  | 0.358    |\n",
      "|    samples_so_far | 1296032  |\n",
      "--------------------------------\n"
     ]
    },
    {
     "name": "stderr",
     "output_type": "stream",
     "text": [
      "40615batch [04:34, 124.35batch/s]\n",
      "41000batch [04:37, 137.97batch/s]\u001b[A"
     ]
    },
    {
     "name": "stdout",
     "output_type": "stream",
     "text": [
      "--------------------------------\n",
      "| batch_size        | 32       |\n",
      "| bc/               |          |\n",
      "|    batch          | 41000    |\n",
      "|    ent_loss       | -0.00107 |\n",
      "|    entropy        | 1.07     |\n",
      "|    epoch          | 13       |\n",
      "|    l2_loss        | 0        |\n",
      "|    l2_norm        | 1.47e+03 |\n",
      "|    loss           | 1.06     |\n",
      "|    neglogp        | 1.06     |\n",
      "|    prob_true_act  | 0.354    |\n",
      "|    samples_so_far | 1312032  |\n",
      "--------------------------------\n"
     ]
    },
    {
     "name": "stderr",
     "output_type": "stream",
     "text": [
      "41493batch [04:40, 130.86batch/s]"
     ]
    },
    {
     "name": "stdout",
     "output_type": "stream",
     "text": [
      "--------------------------------\n",
      "| batch_size        | 32       |\n",
      "| bc/               |          |\n",
      "|    batch          | 41500    |\n",
      "|    ent_loss       | -0.00107 |\n",
      "|    entropy        | 1.07     |\n",
      "|    epoch          | 13       |\n",
      "|    l2_loss        | 0        |\n",
      "|    l2_norm        | 1.48e+03 |\n",
      "|    loss           | 1.02     |\n",
      "|    neglogp        | 1.02     |\n",
      "|    prob_true_act  | 0.367    |\n",
      "|    samples_so_far | 1328032  |\n",
      "--------------------------------\n"
     ]
    },
    {
     "name": "stderr",
     "output_type": "stream",
     "text": [
      "41999batch [04:44, 143.92batch/s]"
     ]
    },
    {
     "name": "stdout",
     "output_type": "stream",
     "text": [
      "--------------------------------\n",
      "| batch_size        | 32       |\n",
      "| bc/               |          |\n",
      "|    batch          | 42000    |\n",
      "|    ent_loss       | -0.00107 |\n",
      "|    entropy        | 1.07     |\n",
      "|    epoch          | 13       |\n",
      "|    l2_loss        | 0        |\n",
      "|    l2_norm        | 1.49e+03 |\n",
      "|    loss           | 0.976    |\n",
      "|    neglogp        | 0.977    |\n",
      "|    prob_true_act  | 0.38     |\n",
      "|    samples_so_far | 1344032  |\n",
      "--------------------------------\n"
     ]
    },
    {
     "name": "stderr",
     "output_type": "stream",
     "text": [
      "42492batch [04:48, 158.34batch/s]"
     ]
    },
    {
     "name": "stdout",
     "output_type": "stream",
     "text": [
      "--------------------------------\n",
      "| batch_size        | 32       |\n",
      "| bc/               |          |\n",
      "|    batch          | 42500    |\n",
      "|    ent_loss       | -0.00107 |\n",
      "|    entropy        | 1.07     |\n",
      "|    epoch          | 13       |\n",
      "|    l2_loss        | 0        |\n",
      "|    l2_norm        | 1.49e+03 |\n",
      "|    loss           | 1.09     |\n",
      "|    neglogp        | 1.09     |\n",
      "|    prob_true_act  | 0.347    |\n",
      "|    samples_so_far | 1360032  |\n",
      "--------------------------------\n"
     ]
    },
    {
     "name": "stderr",
     "output_type": "stream",
     "text": [
      "43000batch [04:51, 133.16batch/s]"
     ]
    },
    {
     "name": "stdout",
     "output_type": "stream",
     "text": [
      "--------------------------------\n",
      "| batch_size        | 32       |\n",
      "| bc/               |          |\n",
      "|    batch          | 43000    |\n",
      "|    ent_loss       | -0.00107 |\n",
      "|    entropy        | 1.07     |\n",
      "|    epoch          | 13       |\n",
      "|    l2_loss        | 0        |\n",
      "|    l2_norm        | 1.49e+03 |\n",
      "|    loss           | 1.08     |\n",
      "|    neglogp        | 1.08     |\n",
      "|    prob_true_act  | 0.348    |\n",
      "|    samples_so_far | 1376032  |\n",
      "--------------------------------\n"
     ]
    },
    {
     "name": "stderr",
     "output_type": "stream",
     "text": [
      "43498batch [04:55, 162.95batch/s]"
     ]
    },
    {
     "name": "stdout",
     "output_type": "stream",
     "text": [
      "--------------------------------\n",
      "| batch_size        | 32       |\n",
      "| bc/               |          |\n",
      "|    batch          | 43500    |\n",
      "|    ent_loss       | -0.00107 |\n",
      "|    entropy        | 1.07     |\n",
      "|    epoch          | 13       |\n",
      "|    l2_loss        | 0        |\n",
      "|    l2_norm        | 1.5e+03  |\n",
      "|    loss           | 1.01     |\n",
      "|    neglogp        | 1.01     |\n",
      "|    prob_true_act  | 0.369    |\n",
      "|    samples_so_far | 1392032  |\n",
      "--------------------------------\n"
     ]
    },
    {
     "name": "stderr",
     "output_type": "stream",
     "text": [
      "43749batch [04:56, 160.90batch/s]\n",
      "44000batch [04:58, 158.72batch/s]\u001b[A"
     ]
    },
    {
     "name": "stdout",
     "output_type": "stream",
     "text": [
      "--------------------------------\n",
      "| batch_size        | 32       |\n",
      "| bc/               |          |\n",
      "|    batch          | 44000    |\n",
      "|    ent_loss       | -0.00107 |\n",
      "|    entropy        | 1.07     |\n",
      "|    epoch          | 14       |\n",
      "|    l2_loss        | 0        |\n",
      "|    l2_norm        | 1.51e+03 |\n",
      "|    loss           | 1.05     |\n",
      "|    neglogp        | 1.05     |\n",
      "|    prob_true_act  | 0.36     |\n",
      "|    samples_so_far | 1408032  |\n",
      "--------------------------------\n"
     ]
    },
    {
     "name": "stderr",
     "output_type": "stream",
     "text": [
      "44484batch [05:01, 163.65batch/s]"
     ]
    },
    {
     "name": "stdout",
     "output_type": "stream",
     "text": [
      "--------------------------------\n",
      "| batch_size        | 32       |\n",
      "| bc/               |          |\n",
      "|    batch          | 44500    |\n",
      "|    ent_loss       | -0.00107 |\n",
      "|    entropy        | 1.07     |\n",
      "|    epoch          | 14       |\n",
      "|    l2_loss        | 0        |\n",
      "|    l2_norm        | 1.52e+03 |\n",
      "|    loss           | 1.15     |\n",
      "|    neglogp        | 1.15     |\n",
      "|    prob_true_act  | 0.327    |\n",
      "|    samples_so_far | 1424032  |\n",
      "--------------------------------\n"
     ]
    },
    {
     "name": "stderr",
     "output_type": "stream",
     "text": [
      "44989batch [05:04, 161.31batch/s]"
     ]
    },
    {
     "name": "stdout",
     "output_type": "stream",
     "text": [
      "--------------------------------\n",
      "| batch_size        | 32       |\n",
      "| bc/               |          |\n",
      "|    batch          | 45000    |\n",
      "|    ent_loss       | -0.00106 |\n",
      "|    entropy        | 1.06     |\n",
      "|    epoch          | 14       |\n",
      "|    l2_loss        | 0        |\n",
      "|    l2_norm        | 1.53e+03 |\n",
      "|    loss           | 1        |\n",
      "|    neglogp        | 1.01     |\n",
      "|    prob_true_act  | 0.374    |\n",
      "|    samples_so_far | 1440032  |\n",
      "--------------------------------\n"
     ]
    },
    {
     "name": "stderr",
     "output_type": "stream",
     "text": [
      "45498batch [05:07, 163.69batch/s]"
     ]
    },
    {
     "name": "stdout",
     "output_type": "stream",
     "text": [
      "--------------------------------\n",
      "| batch_size        | 32       |\n",
      "| bc/               |          |\n",
      "|    batch          | 45500    |\n",
      "|    ent_loss       | -0.00107 |\n",
      "|    entropy        | 1.07     |\n",
      "|    epoch          | 14       |\n",
      "|    l2_loss        | 0        |\n",
      "|    l2_norm        | 1.53e+03 |\n",
      "|    loss           | 1        |\n",
      "|    neglogp        | 1        |\n",
      "|    prob_true_act  | 0.371    |\n",
      "|    samples_so_far | 1456032  |\n",
      "--------------------------------\n"
     ]
    },
    {
     "name": "stderr",
     "output_type": "stream",
     "text": [
      "45989batch [05:10, 163.97batch/s]"
     ]
    },
    {
     "name": "stdout",
     "output_type": "stream",
     "text": [
      "--------------------------------\n",
      "| batch_size        | 32       |\n",
      "| bc/               |          |\n",
      "|    batch          | 46000    |\n",
      "|    ent_loss       | -0.00107 |\n",
      "|    entropy        | 1.07     |\n",
      "|    epoch          | 14       |\n",
      "|    l2_loss        | 0        |\n",
      "|    l2_norm        | 1.54e+03 |\n",
      "|    loss           | 1.03     |\n",
      "|    neglogp        | 1.03     |\n",
      "|    prob_true_act  | 0.362    |\n",
      "|    samples_so_far | 1472032  |\n",
      "--------------------------------\n"
     ]
    },
    {
     "name": "stderr",
     "output_type": "stream",
     "text": [
      "46499batch [05:13, 164.23batch/s]"
     ]
    },
    {
     "name": "stdout",
     "output_type": "stream",
     "text": [
      "--------------------------------\n",
      "| batch_size        | 32       |\n",
      "| bc/               |          |\n",
      "|    batch          | 46500    |\n",
      "|    ent_loss       | -0.00107 |\n",
      "|    entropy        | 1.07     |\n",
      "|    epoch          | 14       |\n",
      "|    l2_loss        | 0        |\n",
      "|    l2_norm        | 1.55e+03 |\n",
      "|    loss           | 1.1      |\n",
      "|    neglogp        | 1.1      |\n",
      "|    prob_true_act  | 0.343    |\n",
      "|    samples_so_far | 1488032  |\n",
      "--------------------------------\n"
     ]
    },
    {
     "name": "stderr",
     "output_type": "stream",
     "text": [
      "46867batch [05:16, 161.40batch/s]\n",
      "46984batch [05:16, 160.66batch/s]\u001b[A"
     ]
    },
    {
     "name": "stdout",
     "output_type": "stream",
     "text": [
      "--------------------------------\n",
      "| batch_size        | 32       |\n",
      "| bc/               |          |\n",
      "|    batch          | 47000    |\n",
      "|    ent_loss       | -0.00107 |\n",
      "|    entropy        | 1.07     |\n",
      "|    epoch          | 15       |\n",
      "|    l2_loss        | 0        |\n",
      "|    l2_norm        | 1.56e+03 |\n",
      "|    loss           | 1.14     |\n",
      "|    neglogp        | 1.14     |\n",
      "|    prob_true_act  | 0.33     |\n",
      "|    samples_so_far | 1504032  |\n",
      "--------------------------------\n"
     ]
    },
    {
     "name": "stderr",
     "output_type": "stream",
     "text": [
      "47494batch [05:19, 161.01batch/s]"
     ]
    },
    {
     "name": "stdout",
     "output_type": "stream",
     "text": [
      "--------------------------------\n",
      "| batch_size        | 32       |\n",
      "| bc/               |          |\n",
      "|    batch          | 47500    |\n",
      "|    ent_loss       | -0.00106 |\n",
      "|    entropy        | 1.06     |\n",
      "|    epoch          | 15       |\n",
      "|    l2_loss        | 0        |\n",
      "|    l2_norm        | 1.56e+03 |\n",
      "|    loss           | 1.14     |\n",
      "|    neglogp        | 1.14     |\n",
      "|    prob_true_act  | 0.332    |\n",
      "|    samples_so_far | 1520032  |\n",
      "--------------------------------\n"
     ]
    },
    {
     "name": "stderr",
     "output_type": "stream",
     "text": [
      "47986batch [05:23, 161.44batch/s]"
     ]
    },
    {
     "name": "stdout",
     "output_type": "stream",
     "text": [
      "--------------------------------\n",
      "| batch_size        | 32       |\n",
      "| bc/               |          |\n",
      "|    batch          | 48000    |\n",
      "|    ent_loss       | -0.00108 |\n",
      "|    entropy        | 1.08     |\n",
      "|    epoch          | 15       |\n",
      "|    l2_loss        | 0        |\n",
      "|    l2_norm        | 1.57e+03 |\n",
      "|    loss           | 1.07     |\n",
      "|    neglogp        | 1.07     |\n",
      "|    prob_true_act  | 0.349    |\n",
      "|    samples_so_far | 1536032  |\n",
      "--------------------------------\n"
     ]
    },
    {
     "name": "stderr",
     "output_type": "stream",
     "text": [
      "48491batch [05:26, 161.77batch/s]"
     ]
    },
    {
     "name": "stdout",
     "output_type": "stream",
     "text": [
      "--------------------------------\n",
      "| batch_size        | 32       |\n",
      "| bc/               |          |\n",
      "|    batch          | 48500    |\n",
      "|    ent_loss       | -0.00107 |\n",
      "|    entropy        | 1.07     |\n",
      "|    epoch          | 15       |\n",
      "|    l2_loss        | 0        |\n",
      "|    l2_norm        | 1.58e+03 |\n",
      "|    loss           | 1.05     |\n",
      "|    neglogp        | 1.05     |\n",
      "|    prob_true_act  | 0.356    |\n",
      "|    samples_so_far | 1552032  |\n",
      "--------------------------------\n"
     ]
    },
    {
     "name": "stderr",
     "output_type": "stream",
     "text": [
      "48993batch [05:29, 152.06batch/s]"
     ]
    },
    {
     "name": "stdout",
     "output_type": "stream",
     "text": [
      "--------------------------------\n",
      "| batch_size        | 32       |\n",
      "| bc/               |          |\n",
      "|    batch          | 49000    |\n",
      "|    ent_loss       | -0.00107 |\n",
      "|    entropy        | 1.07     |\n",
      "|    epoch          | 15       |\n",
      "|    l2_loss        | 0        |\n",
      "|    l2_norm        | 1.59e+03 |\n",
      "|    loss           | 1.07     |\n",
      "|    neglogp        | 1.07     |\n",
      "|    prob_true_act  | 0.352    |\n",
      "|    samples_so_far | 1568032  |\n",
      "--------------------------------\n"
     ]
    },
    {
     "name": "stderr",
     "output_type": "stream",
     "text": [
      "49498batch [05:32, 165.66batch/s]"
     ]
    },
    {
     "name": "stdout",
     "output_type": "stream",
     "text": [
      "--------------------------------\n",
      "| batch_size        | 32       |\n",
      "| bc/               |          |\n",
      "|    batch          | 49500    |\n",
      "|    ent_loss       | -0.00107 |\n",
      "|    entropy        | 1.07     |\n",
      "|    epoch          | 15       |\n",
      "|    l2_loss        | 0        |\n",
      "|    l2_norm        | 1.6e+03  |\n",
      "|    loss           | 1.08     |\n",
      "|    neglogp        | 1.08     |\n",
      "|    prob_true_act  | 0.347    |\n",
      "|    samples_so_far | 1584032  |\n",
      "--------------------------------\n"
     ]
    },
    {
     "name": "stderr",
     "output_type": "stream",
     "text": [
      "49984batch [05:35, 163.67batch/s]\n",
      "Epoch 15 of 20                   \u001b[A"
     ]
    },
    {
     "name": "stdout",
     "output_type": "stream",
     "text": [
      "--------------------------------\n",
      "| batch_size        | 32       |\n",
      "| bc/               |          |\n",
      "|    batch          | 50000    |\n",
      "|    ent_loss       | -0.00107 |\n",
      "|    entropy        | 1.07     |\n",
      "|    epoch          | 16       |\n",
      "|    l2_loss        | 0        |\n",
      "|    l2_norm        | 1.61e+03 |\n",
      "|    loss           | 1.15     |\n",
      "|    neglogp        | 1.15     |\n",
      "|    prob_true_act  | 0.327    |\n",
      "|    samples_so_far | 1600032  |\n",
      "--------------------------------\n"
     ]
    },
    {
     "name": "stderr",
     "output_type": "stream",
     "text": [
      "50487batch [05:38, 158.99batch/s]"
     ]
    },
    {
     "name": "stdout",
     "output_type": "stream",
     "text": [
      "--------------------------------\n",
      "| batch_size        | 32       |\n",
      "| bc/               |          |\n",
      "|    batch          | 50500    |\n",
      "|    ent_loss       | -0.00106 |\n",
      "|    entropy        | 1.06     |\n",
      "|    epoch          | 16       |\n",
      "|    l2_loss        | 0        |\n",
      "|    l2_norm        | 1.62e+03 |\n",
      "|    loss           | 1.01     |\n",
      "|    neglogp        | 1.02     |\n",
      "|    prob_true_act  | 0.369    |\n",
      "|    samples_so_far | 1616032  |\n",
      "--------------------------------\n"
     ]
    },
    {
     "name": "stderr",
     "output_type": "stream",
     "text": [
      "50992batch [05:42, 161.06batch/s]"
     ]
    },
    {
     "name": "stdout",
     "output_type": "stream",
     "text": [
      "--------------------------------\n",
      "| batch_size        | 32       |\n",
      "| bc/               |          |\n",
      "|    batch          | 51000    |\n",
      "|    ent_loss       | -0.00106 |\n",
      "|    entropy        | 1.06     |\n",
      "|    epoch          | 16       |\n",
      "|    l2_loss        | 0        |\n",
      "|    l2_norm        | 1.62e+03 |\n",
      "|    loss           | 1.05     |\n",
      "|    neglogp        | 1.05     |\n",
      "|    prob_true_act  | 0.359    |\n",
      "|    samples_so_far | 1632032  |\n",
      "--------------------------------\n"
     ]
    },
    {
     "name": "stderr",
     "output_type": "stream",
     "text": [
      "51484batch [05:45, 160.54batch/s]"
     ]
    },
    {
     "name": "stdout",
     "output_type": "stream",
     "text": [
      "--------------------------------\n",
      "| batch_size        | 32       |\n",
      "| bc/               |          |\n",
      "|    batch          | 51500    |\n",
      "|    ent_loss       | -0.00107 |\n",
      "|    entropy        | 1.07     |\n",
      "|    epoch          | 16       |\n",
      "|    l2_loss        | 0        |\n",
      "|    l2_norm        | 1.63e+03 |\n",
      "|    loss           | 1.08     |\n",
      "|    neglogp        | 1.08     |\n",
      "|    prob_true_act  | 0.346    |\n",
      "|    samples_so_far | 1648032  |\n",
      "--------------------------------\n"
     ]
    },
    {
     "name": "stderr",
     "output_type": "stream",
     "text": [
      "51988batch [05:48, 153.41batch/s]"
     ]
    },
    {
     "name": "stdout",
     "output_type": "stream",
     "text": [
      "--------------------------------\n",
      "| batch_size        | 32       |\n",
      "| bc/               |          |\n",
      "|    batch          | 52000    |\n",
      "|    ent_loss       | -0.00106 |\n",
      "|    entropy        | 1.06     |\n",
      "|    epoch          | 16       |\n",
      "|    l2_loss        | 0        |\n",
      "|    l2_norm        | 1.63e+03 |\n",
      "|    loss           | 1.07     |\n",
      "|    neglogp        | 1.07     |\n",
      "|    prob_true_act  | 0.354    |\n",
      "|    samples_so_far | 1664032  |\n",
      "--------------------------------\n"
     ]
    },
    {
     "name": "stderr",
     "output_type": "stream",
     "text": [
      "52492batch [05:51, 160.40batch/s]"
     ]
    },
    {
     "name": "stdout",
     "output_type": "stream",
     "text": [
      "--------------------------------\n",
      "| batch_size        | 32       |\n",
      "| bc/               |          |\n",
      "|    batch          | 52500    |\n",
      "|    ent_loss       | -0.00106 |\n",
      "|    entropy        | 1.06     |\n",
      "|    epoch          | 16       |\n",
      "|    l2_loss        | 0        |\n",
      "|    l2_norm        | 1.64e+03 |\n",
      "|    loss           | 1.15     |\n",
      "|    neglogp        | 1.15     |\n",
      "|    prob_true_act  | 0.33     |\n",
      "|    samples_so_far | 1680032  |\n",
      "--------------------------------\n"
     ]
    },
    {
     "name": "stderr",
     "output_type": "stream",
     "text": [
      "52996batch [05:54, 159.01batch/s]"
     ]
    },
    {
     "name": "stdout",
     "output_type": "stream",
     "text": [
      "--------------------------------\n",
      "| batch_size        | 32       |\n",
      "| bc/               |          |\n",
      "|    batch          | 53000    |\n",
      "|    ent_loss       | -0.00106 |\n",
      "|    entropy        | 1.06     |\n",
      "|    epoch          | 16       |\n",
      "|    l2_loss        | 0        |\n",
      "|    l2_norm        | 1.65e+03 |\n",
      "|    loss           | 1.1      |\n",
      "|    neglogp        | 1.1      |\n",
      "|    prob_true_act  | 0.345    |\n",
      "|    samples_so_far | 1696032  |\n",
      "--------------------------------\n"
     ]
    },
    {
     "name": "stderr",
     "output_type": "stream",
     "text": [
      "53114batch [05:55, 162.93batch/s]\n",
      "53499batch [05:57, 125.20batch/s]\u001b[A"
     ]
    },
    {
     "name": "stdout",
     "output_type": "stream",
     "text": [
      "--------------------------------\n",
      "| batch_size        | 32       |\n",
      "| bc/               |          |\n",
      "|    batch          | 53500    |\n",
      "|    ent_loss       | -0.00107 |\n",
      "|    entropy        | 1.07     |\n",
      "|    epoch          | 17       |\n",
      "|    l2_loss        | 0        |\n",
      "|    l2_norm        | 1.66e+03 |\n",
      "|    loss           | 1.09     |\n",
      "|    neglogp        | 1.09     |\n",
      "|    prob_true_act  | 0.342    |\n",
      "|    samples_so_far | 1712032  |\n",
      "--------------------------------\n"
     ]
    },
    {
     "name": "stderr",
     "output_type": "stream",
     "text": [
      "53992batch [06:01, 141.20batch/s]"
     ]
    },
    {
     "name": "stdout",
     "output_type": "stream",
     "text": [
      "--------------------------------\n",
      "| batch_size        | 32       |\n",
      "| bc/               |          |\n",
      "|    batch          | 54000    |\n",
      "|    ent_loss       | -0.00107 |\n",
      "|    entropy        | 1.07     |\n",
      "|    epoch          | 17       |\n",
      "|    l2_loss        | 0        |\n",
      "|    l2_norm        | 1.67e+03 |\n",
      "|    loss           | 1.15     |\n",
      "|    neglogp        | 1.15     |\n",
      "|    prob_true_act  | 0.328    |\n",
      "|    samples_so_far | 1728032  |\n",
      "--------------------------------\n"
     ]
    },
    {
     "name": "stderr",
     "output_type": "stream",
     "text": [
      "54495batch [06:05, 161.04batch/s]"
     ]
    },
    {
     "name": "stdout",
     "output_type": "stream",
     "text": [
      "--------------------------------\n",
      "| batch_size        | 32       |\n",
      "| bc/               |          |\n",
      "|    batch          | 54500    |\n",
      "|    ent_loss       | -0.00106 |\n",
      "|    entropy        | 1.06     |\n",
      "|    epoch          | 17       |\n",
      "|    l2_loss        | 0        |\n",
      "|    l2_norm        | 1.67e+03 |\n",
      "|    loss           | 1.05     |\n",
      "|    neglogp        | 1.05     |\n",
      "|    prob_true_act  | 0.359    |\n",
      "|    samples_so_far | 1744032  |\n",
      "--------------------------------\n"
     ]
    },
    {
     "name": "stderr",
     "output_type": "stream",
     "text": [
      "54997batch [06:08, 160.77batch/s]"
     ]
    },
    {
     "name": "stdout",
     "output_type": "stream",
     "text": [
      "--------------------------------\n",
      "| batch_size        | 32       |\n",
      "| bc/               |          |\n",
      "|    batch          | 55000    |\n",
      "|    ent_loss       | -0.00107 |\n",
      "|    entropy        | 1.07     |\n",
      "|    epoch          | 17       |\n",
      "|    l2_loss        | 0        |\n",
      "|    l2_norm        | 1.68e+03 |\n",
      "|    loss           | 1.02     |\n",
      "|    neglogp        | 1.03     |\n",
      "|    prob_true_act  | 0.366    |\n",
      "|    samples_so_far | 1760032  |\n",
      "--------------------------------\n"
     ]
    },
    {
     "name": "stderr",
     "output_type": "stream",
     "text": [
      "55486batch [06:11, 161.52batch/s]"
     ]
    },
    {
     "name": "stdout",
     "output_type": "stream",
     "text": [
      "--------------------------------\n",
      "| batch_size        | 32       |\n",
      "| bc/               |          |\n",
      "|    batch          | 55500    |\n",
      "|    ent_loss       | -0.00107 |\n",
      "|    entropy        | 1.07     |\n",
      "|    epoch          | 17       |\n",
      "|    l2_loss        | 0        |\n",
      "|    l2_norm        | 1.69e+03 |\n",
      "|    loss           | 1.15     |\n",
      "|    neglogp        | 1.15     |\n",
      "|    prob_true_act  | 0.327    |\n",
      "|    samples_so_far | 1776032  |\n",
      "--------------------------------\n"
     ]
    },
    {
     "name": "stderr",
     "output_type": "stream",
     "text": [
      "55996batch [06:14, 160.32batch/s]"
     ]
    },
    {
     "name": "stdout",
     "output_type": "stream",
     "text": [
      "--------------------------------\n",
      "| batch_size        | 32       |\n",
      "| bc/               |          |\n",
      "|    batch          | 56000    |\n",
      "|    ent_loss       | -0.00107 |\n",
      "|    entropy        | 1.07     |\n",
      "|    epoch          | 17       |\n",
      "|    l2_loss        | 0        |\n",
      "|    l2_norm        | 1.7e+03  |\n",
      "|    loss           | 1.1      |\n",
      "|    neglogp        | 1.1      |\n",
      "|    prob_true_act  | 0.342    |\n",
      "|    samples_so_far | 1792032  |\n",
      "--------------------------------\n"
     ]
    },
    {
     "name": "stderr",
     "output_type": "stream",
     "text": [
      "56248batch [06:16, 161.84batch/s]\n",
      "56494batch [06:17, 156.71batch/s]\u001b[A"
     ]
    },
    {
     "name": "stdout",
     "output_type": "stream",
     "text": [
      "--------------------------------\n",
      "| batch_size        | 32       |\n",
      "| bc/               |          |\n",
      "|    batch          | 56500    |\n",
      "|    ent_loss       | -0.00107 |\n",
      "|    entropy        | 1.07     |\n",
      "|    epoch          | 18       |\n",
      "|    l2_loss        | 0        |\n",
      "|    l2_norm        | 1.71e+03 |\n",
      "|    loss           | 1.11     |\n",
      "|    neglogp        | 1.11     |\n",
      "|    prob_true_act  | 0.34     |\n",
      "|    samples_so_far | 1808032  |\n",
      "--------------------------------\n"
     ]
    },
    {
     "name": "stderr",
     "output_type": "stream",
     "text": [
      "56999batch [06:20, 162.46batch/s]"
     ]
    },
    {
     "name": "stdout",
     "output_type": "stream",
     "text": [
      "--------------------------------\n",
      "| batch_size        | 32       |\n",
      "| bc/               |          |\n",
      "|    batch          | 57000    |\n",
      "|    ent_loss       | -0.00107 |\n",
      "|    entropy        | 1.07     |\n",
      "|    epoch          | 18       |\n",
      "|    l2_loss        | 0        |\n",
      "|    l2_norm        | 1.71e+03 |\n",
      "|    loss           | 1.13     |\n",
      "|    neglogp        | 1.13     |\n",
      "|    prob_true_act  | 0.332    |\n",
      "|    samples_so_far | 1824032  |\n",
      "--------------------------------\n"
     ]
    },
    {
     "name": "stderr",
     "output_type": "stream",
     "text": [
      "57492batch [06:23, 161.40batch/s]"
     ]
    },
    {
     "name": "stdout",
     "output_type": "stream",
     "text": [
      "--------------------------------\n",
      "| batch_size        | 32       |\n",
      "| bc/               |          |\n",
      "|    batch          | 57500    |\n",
      "|    ent_loss       | -0.00106 |\n",
      "|    entropy        | 1.06     |\n",
      "|    epoch          | 18       |\n",
      "|    l2_loss        | 0        |\n",
      "|    l2_norm        | 1.72e+03 |\n",
      "|    loss           | 1.03     |\n",
      "|    neglogp        | 1.03     |\n",
      "|    prob_true_act  | 0.366    |\n",
      "|    samples_so_far | 1840032  |\n",
      "--------------------------------\n"
     ]
    },
    {
     "name": "stderr",
     "output_type": "stream",
     "text": [
      "57997batch [06:27, 155.92batch/s]"
     ]
    },
    {
     "name": "stdout",
     "output_type": "stream",
     "text": [
      "--------------------------------\n",
      "| batch_size        | 32       |\n",
      "| bc/               |          |\n",
      "|    batch          | 58000    |\n",
      "|    ent_loss       | -0.00107 |\n",
      "|    entropy        | 1.07     |\n",
      "|    epoch          | 18       |\n",
      "|    l2_loss        | 0        |\n",
      "|    l2_norm        | 1.73e+03 |\n",
      "|    loss           | 1.07     |\n",
      "|    neglogp        | 1.07     |\n",
      "|    prob_true_act  | 0.351    |\n",
      "|    samples_so_far | 1856032  |\n",
      "--------------------------------\n"
     ]
    },
    {
     "name": "stderr",
     "output_type": "stream",
     "text": [
      "58498batch [06:30, 160.55batch/s]"
     ]
    },
    {
     "name": "stdout",
     "output_type": "stream",
     "text": [
      "--------------------------------\n",
      "| batch_size        | 32       |\n",
      "| bc/               |          |\n",
      "|    batch          | 58500    |\n",
      "|    ent_loss       | -0.00107 |\n",
      "|    entropy        | 1.07     |\n",
      "|    epoch          | 18       |\n",
      "|    l2_loss        | 0        |\n",
      "|    l2_norm        | 1.74e+03 |\n",
      "|    loss           | 1.07     |\n",
      "|    neglogp        | 1.07     |\n",
      "|    prob_true_act  | 0.352    |\n",
      "|    samples_so_far | 1872032  |\n",
      "--------------------------------\n"
     ]
    },
    {
     "name": "stderr",
     "output_type": "stream",
     "text": [
      "58986batch [06:33, 156.91batch/s]"
     ]
    },
    {
     "name": "stdout",
     "output_type": "stream",
     "text": [
      "--------------------------------\n",
      "| batch_size        | 32       |\n",
      "| bc/               |          |\n",
      "|    batch          | 59000    |\n",
      "|    ent_loss       | -0.00107 |\n",
      "|    entropy        | 1.07     |\n",
      "|    epoch          | 18       |\n",
      "|    l2_loss        | 0        |\n",
      "|    l2_norm        | 1.74e+03 |\n",
      "|    loss           | 1.14     |\n",
      "|    neglogp        | 1.14     |\n",
      "|    prob_true_act  | 0.333    |\n",
      "|    samples_so_far | 1888032  |\n",
      "--------------------------------\n"
     ]
    },
    {
     "name": "stderr",
     "output_type": "stream",
     "text": [
      "59367batch [06:35, 152.11batch/s]\n",
      "59484batch [06:36, 159.81batch/s]\u001b[A"
     ]
    },
    {
     "name": "stdout",
     "output_type": "stream",
     "text": [
      "--------------------------------\n",
      "| batch_size        | 32       |\n",
      "| bc/               |          |\n",
      "|    batch          | 59500    |\n",
      "|    ent_loss       | -0.00106 |\n",
      "|    entropy        | 1.06     |\n",
      "|    epoch          | 19       |\n",
      "|    l2_loss        | 0        |\n",
      "|    l2_norm        | 1.75e+03 |\n",
      "|    loss           | 1.12     |\n",
      "|    neglogp        | 1.12     |\n",
      "|    prob_true_act  | 0.34     |\n",
      "|    samples_so_far | 1904032  |\n",
      "--------------------------------\n"
     ]
    },
    {
     "name": "stderr",
     "output_type": "stream",
     "text": [
      "59993batch [06:39, 159.22batch/s]"
     ]
    },
    {
     "name": "stdout",
     "output_type": "stream",
     "text": [
      "--------------------------------\n",
      "| batch_size        | 32       |\n",
      "| bc/               |          |\n",
      "|    batch          | 60000    |\n",
      "|    ent_loss       | -0.00107 |\n",
      "|    entropy        | 1.07     |\n",
      "|    epoch          | 19       |\n",
      "|    l2_loss        | 0        |\n",
      "|    l2_norm        | 1.76e+03 |\n",
      "|    loss           | 1.07     |\n",
      "|    neglogp        | 1.07     |\n",
      "|    prob_true_act  | 0.349    |\n",
      "|    samples_so_far | 1920032  |\n",
      "--------------------------------\n"
     ]
    },
    {
     "name": "stderr",
     "output_type": "stream",
     "text": [
      "60496batch [06:42, 158.45batch/s]"
     ]
    },
    {
     "name": "stdout",
     "output_type": "stream",
     "text": [
      "--------------------------------\n",
      "| batch_size        | 32       |\n",
      "| bc/               |          |\n",
      "|    batch          | 60500    |\n",
      "|    ent_loss       | -0.00107 |\n",
      "|    entropy        | 1.07     |\n",
      "|    epoch          | 19       |\n",
      "|    l2_loss        | 0        |\n",
      "|    l2_norm        | 1.76e+03 |\n",
      "|    loss           | 1.14     |\n",
      "|    neglogp        | 1.14     |\n",
      "|    prob_true_act  | 0.331    |\n",
      "|    samples_so_far | 1936032  |\n",
      "--------------------------------\n"
     ]
    },
    {
     "name": "stderr",
     "output_type": "stream",
     "text": [
      "61000batch [06:46, 162.17batch/s]"
     ]
    },
    {
     "name": "stdout",
     "output_type": "stream",
     "text": [
      "--------------------------------\n",
      "| batch_size        | 32       |\n",
      "| bc/               |          |\n",
      "|    batch          | 61000    |\n",
      "|    ent_loss       | -0.00107 |\n",
      "|    entropy        | 1.07     |\n",
      "|    epoch          | 19       |\n",
      "|    l2_loss        | 0        |\n",
      "|    l2_norm        | 1.77e+03 |\n",
      "|    loss           | 1.07     |\n",
      "|    neglogp        | 1.07     |\n",
      "|    prob_true_act  | 0.352    |\n",
      "|    samples_so_far | 1952032  |\n",
      "--------------------------------\n"
     ]
    },
    {
     "name": "stderr",
     "output_type": "stream",
     "text": [
      "61491batch [06:49, 163.73batch/s]"
     ]
    },
    {
     "name": "stdout",
     "output_type": "stream",
     "text": [
      "--------------------------------\n",
      "| batch_size        | 32       |\n",
      "| bc/               |          |\n",
      "|    batch          | 61500    |\n",
      "|    ent_loss       | -0.00106 |\n",
      "|    entropy        | 1.06     |\n",
      "|    epoch          | 19       |\n",
      "|    l2_loss        | 0        |\n",
      "|    l2_norm        | 1.79e+03 |\n",
      "|    loss           | 1.06     |\n",
      "|    neglogp        | 1.07     |\n",
      "|    prob_true_act  | 0.355    |\n",
      "|    samples_so_far | 1968032  |\n",
      "--------------------------------\n"
     ]
    },
    {
     "name": "stderr",
     "output_type": "stream",
     "text": [
      "61984batch [06:52, 160.08batch/s]"
     ]
    },
    {
     "name": "stdout",
     "output_type": "stream",
     "text": [
      "--------------------------------\n",
      "| batch_size        | 32       |\n",
      "| bc/               |          |\n",
      "|    batch          | 62000    |\n",
      "|    ent_loss       | -0.00106 |\n",
      "|    entropy        | 1.06     |\n",
      "|    epoch          | 19       |\n",
      "|    l2_loss        | 0        |\n",
      "|    l2_norm        | 1.8e+03  |\n",
      "|    loss           | 1.03     |\n",
      "|    neglogp        | 1.03     |\n",
      "|    prob_true_act  | 0.368    |\n",
      "|    samples_so_far | 1984032  |\n",
      "--------------------------------\n"
     ]
    },
    {
     "name": "stderr",
     "output_type": "stream",
     "text": [
      "62491batch [06:55, 159.68batch/s]\n",
      "62500batch [06:55, 150.41batch/s]\u001b[A\n"
     ]
    }
   ],
   "source": [
    "from imitation.algorithms.bc import BC\n",
    "from stable_baselines3.common.vec_env import DummyVecEnv\n",
    "import gymnasium as gym\n",
    "import numpy as np\n",
    "from imitation.data.types import Transitions\n",
    "\n",
    "\n",
    "# Step 1: Prepare expert data\n",
    "expert_transitions = Transitions(\n",
    "    obs=data[\"observations\"],\n",
    "    acts=data[\"actions\"],\n",
    "    dones=data[\"dones\"],\n",
    "    infos=np.empty((len(data[\"actions\"]))),\n",
    "    next_obs=np.roll(data[\"observations\"], -1, axis=0)\n",
    ")\n",
    "    \n",
    "def make_env():\n",
    "    return SnakeEnvCoilReset()\n",
    "    \n",
    "# Step 2: Create a simple environment\n",
    "env = DummyVecEnv([lambda: make_env()])\n",
    "\n",
    "# Step 3: Initialize the policy\n",
    "policy_kwargs = dict(\n",
    "    features_extractor_class=CustomFlattenExtractor,\n",
    "    net_arch=[256, 128],  # Specify the layer sizes here\n",
    ")\n",
    "\n",
    "policy = PPO(policy=\"MlpPolicy\", \n",
    "            env=env, \n",
    "            policy_kwargs=policy_kwargs, \n",
    "            learning_rate=0.0001, \n",
    "            batch_size=32,\n",
    "            )\n",
    "\n",
    "# Step 4: Initialize the Behavioral Cloning class\n",
    "bc_trainer = BC(\n",
    "    observation_space=policy.observation_space,\n",
    "    action_space=policy.action_space,\n",
    "    policy=policy.policy,\n",
    "    demonstrations=expert_transitions,\n",
    "    rng=np.random.default_rng(),\n",
    ")\n",
    "\n",
    "# Step 5: Train the BC policy\n",
    "bc_trainer.train(\n",
    "    n_epochs=20\n",
    ")\n",
    "\n"
   ]
  },
  {
   "cell_type": "code",
   "execution_count": 125,
   "id": "0cdf0008",
   "metadata": {},
   "outputs": [
    {
     "data": {
      "text/plain": [
       "<imitation.util.logger.HierarchicalLogger at 0x14c1cc410>"
      ]
     },
     "execution_count": 125,
     "metadata": {},
     "output_type": "execute_result"
    }
   ],
   "source": [
    "bc_trainer.logger"
   ]
  },
  {
   "cell_type": "code",
   "execution_count": 130,
   "id": "7f265090",
   "metadata": {},
   "outputs": [
    {
     "data": {
      "image/png": "[encoded data removed]",
      "text/plain": [
       "<Figure size 600x600 with 1 Axes>"
      ]
     },
     "metadata": {},
     "output_type": "display_data"
    },
    {
     "data": {
      "image/png": "[encoded data removed]",
      "text/plain": [
       "<Figure size 600x600 with 1 Axes>"
      ]
     },
     "metadata": {},
     "output_type": "display_data"
    }
   ],
   "source": [
    "watch_agent_play(deeper_256_128_model, env = SnakeEnvCoilReset())"
   ]
  }
 ],
 "metadata": {
  "kernelspec": {
   "display_name": "Python (snake)",
   "language": "python",
   "name": "snake"
  },
  "language_info": {
   "codemirror_mode": {
    "name": "ipython",
    "version": 3
   },
   "file_extension": ".py",
   "mimetype": "text/x-python",
   "name": "python",
   "nbconvert_exporter": "python",
   "pygments_lexer": "ipython3",
   "version": "3.11.5"
  }
 },
 "nbformat": 4,
 "nbformat_minor": 5
}
