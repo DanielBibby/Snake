{
 "cells": [
  {
   "cell_type": "code",
   "execution_count": 4,
   "id": "5cbbe46d",
   "metadata": {},
   "outputs": [],
   "source": [
    "import gym\n",
    "from gym import spaces\n",
    "import numpy as np\n",
    "\n"
   ]
  },
  {
   "cell_type": "code",
   "execution_count": 10,
   "id": "9ddc70bf",
   "metadata": {},
   "outputs": [],
   "source": [
    "?spaces.MultiDiscrete"
   ]
  },
  {
   "cell_type": "code",
   "execution_count": 18,
   "id": "942dc50f",
   "metadata": {},
   "outputs": [
    {
     "data": {
      "text/plain": [
       "[1, 1, 2, 0, 0, 0, 0, 0, 0, 0]"
      ]
     },
     "execution_count": 18,
     "metadata": {},
     "output_type": "execute_result"
    }
   ],
   "source": [
    "x = [0] * 10\n",
    "x[0:3] = [1,1,2]\n",
    "x"
   ]
  },
  {
   "cell_type": "code",
   "execution_count": 19,
   "id": "dae50c4a",
   "metadata": {},
   "outputs": [
    {
     "ename": "IndentationError",
     "evalue": "expected an indented block after 'if' statement on line 25 (317606195.py, line 28)",
     "output_type": "error",
     "traceback": [
      "\u001b[0;36m  Cell \u001b[0;32mIn[19], line 28\u001b[0;36m\u001b[0m\n\u001b[0;31m    elif action == 0:\u001b[0m\n\u001b[0m    ^\u001b[0m\n\u001b[0;31mIndentationError\u001b[0m\u001b[0;31m:\u001b[0m expected an indented block after 'if' statement on line 25\n"
     ]
    }
   ],
   "source": [
    "class Snake(gym.Env):\n",
    "    def __init__(self):\n",
    "        self.action_space = spaces.Discrete(3, start=-1)  # {-1: 'Left', 0: 'Straight', 1: 'Right'}\n",
    "        \n",
    "        # [head loc x, head loc y, food loc x, food loc y, danger left, danger straight, danger right]\n",
    "        # for each grid loc there is either head, tail, food or nothing\n",
    "        self.observation_space = spaces.MultiDiscrete([4] * 10 * 10) # {0: 'Nothing', 1: 'food', 2: 'tail', 3: 'head'}\n",
    "        \n",
    "   \n",
    "        self.state = [0] * 10 * 10\n",
    "        self.state[40:43] = [2,2,3]\n",
    "        self.state[47] = 1\n",
    "        self.done = False\n",
    "        \n",
    "        self._state_lag = None\n",
    "\n",
    "    def step(self, action):\n",
    "        \"\"\"\n",
    "        This method applies an action and returns the next state, reward, done, and any additional info.\n",
    "        \n",
    "        :param action: Action taken by the agent\n",
    "        :return: tuple (next_state, reward, done, info)\n",
    "        \"\"\"\n",
    "        # Example of action handling\n",
    "        self.done, self.state = self._update_state(action)\n",
    "        \n",
    "        # Calculate reward (this is just an example)\n",
    "        reward = pass  # TODO\n",
    "\n",
    "    \n",
    "        # Additional info (can be empty if not needed)\n",
    "        info = {} # TODO\n",
    "        \n",
    "        return self.state, reward, self.done, info\n",
    "\n",
    "    def reset(self):\n",
    "        \"\"\"\n",
    "        This method resets the environment to its initial state.\n",
    "        :return: Initial state\n",
    "        \"\"\"\n",
    "        self.state = [0] * 10 * 10\n",
    "        self.state[40:43] = [2,2,3]\n",
    "        self.state[47] = 1\n",
    "        self.done = False\n",
    "        \n",
    "        return self.state\n",
    "\n",
    "    def render(self, mode='human'):\n",
    "        \"\"\"\n",
    "        This method renders the environment. Can be visual, textual, or any other form of rendering.\n",
    "        \n",
    "        :param mode: Mode of rendering (e.g., 'human' for a human-readable format)\n",
    "        \"\"\"\n",
    "        print(f\"State: {self.state}\")\n",
    "\n",
    "    def close(self):\n",
    "        \"\"\"\n",
    "        Any cleanup code for the environment can be added here (e.g., closing windows).\n",
    "        \"\"\"\n",
    "        pass\n",
    "    \n",
    "    def _update_state(self, action: spaces.Discrete(3, start=-1)) -> (bool, spaces.MultiDiscrete([4] * 10 * 10)):\n",
    "        \"\"\"\n",
    "        Sse self.state and self._state_lag to figure out the next state\n",
    "        \"\"\"\n",
    "        new_state = pass\n",
    "    \n",
    "        done = self._terminal_reached(action) # todo: implement\n",
    "        \n",
    "        \n",
    "        if 2 not in new_state:\n",
    "            # place food on an empty coordinate\n",
    "            pass\n",
    "        \n",
    "        return done, new_state\n",
    "    \n",
    "    def _terminal_reached(self, action: spaces.Discrete(3, start=-1)) -> bool:\n",
    "        \"\"\"\n",
    "        Method to figure out if an action results in a terminal action\n",
    "        \"\"\"\n",
    "        pass\n",
    "    \n"
   ]
  },
  {
   "cell_type": "code",
   "execution_count": 26,
   "id": "4576de76",
   "metadata": {},
   "outputs": [
    {
     "data": {
      "text/plain": [
       "3"
      ]
     },
     "execution_count": 26,
     "metadata": {},
     "output_type": "execute_result"
    }
   ],
   "source": [
    "\n"
   ]
  },
  {
   "cell_type": "code",
   "execution_count": null,
   "id": "58f5e94c",
   "metadata": {},
   "outputs": [],
   "source": []
  }
 ],
 "metadata": {
  "kernelspec": {
   "display_name": "Python 3 (ipykernel)",
   "language": "python",
   "name": "python3"
  },
  "language_info": {
   "codemirror_mode": {
    "name": "ipython",
    "version": 3
   },
   "file_extension": ".py",
   "mimetype": "text/x-python",
   "name": "python",
   "nbconvert_exporter": "python",
   "pygments_lexer": "ipython3",
   "version": "3.11.5"
  }
 },
 "nbformat": 4,
 "nbformat_minor": 5
}
